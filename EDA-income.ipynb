{
 "cells": [
  {
   "cell_type": "markdown",
   "id": "90222417",
   "metadata": {},
   "source": [
    "# Simple EDA on the income data"
   ]
  },
  {
   "cell_type": "code",
   "execution_count": 1,
   "id": "1a05eb35",
   "metadata": {},
   "outputs": [],
   "source": [
    "import numpy as np\n",
    "import pandas as pd\n",
    "import seaborn as sns\n",
    "import matplotlib.pyplot as plt\n",
    "import warnings \n",
    "warnings.filterwarnings(\"ignore\")\n",
    "from scipy.stats import ttest_ind, ttest_rel\n",
    "from scipy import stats"
   ]
  },
  {
   "cell_type": "code",
   "execution_count": 2,
   "id": "fc579c9d",
   "metadata": {},
   "outputs": [
    {
     "data": {
      "text/html": [
       "<div>\n",
       "<style scoped>\n",
       "    .dataframe tbody tr th:only-of-type {\n",
       "        vertical-align: middle;\n",
       "    }\n",
       "\n",
       "    .dataframe tbody tr th {\n",
       "        vertical-align: top;\n",
       "    }\n",
       "\n",
       "    .dataframe thead th {\n",
       "        text-align: right;\n",
       "    }\n",
       "</style>\n",
       "<table border=\"1\" class=\"dataframe\">\n",
       "  <thead>\n",
       "    <tr style=\"text-align: right;\">\n",
       "      <th></th>\n",
       "      <th>age</th>\n",
       "      <th>workclass</th>\n",
       "      <th>education</th>\n",
       "      <th>educational-num</th>\n",
       "      <th>marital-status</th>\n",
       "      <th>occupation</th>\n",
       "      <th>relationship</th>\n",
       "      <th>race</th>\n",
       "      <th>gender</th>\n",
       "      <th>capital-gain</th>\n",
       "      <th>capital-loss</th>\n",
       "      <th>hours-per-week</th>\n",
       "      <th>native-country</th>\n",
       "      <th>income</th>\n",
       "    </tr>\n",
       "  </thead>\n",
       "  <tbody>\n",
       "    <tr>\n",
       "      <th>0</th>\n",
       "      <td>25</td>\n",
       "      <td>Private</td>\n",
       "      <td>11th</td>\n",
       "      <td>7</td>\n",
       "      <td>Never-married</td>\n",
       "      <td>Machine-op-inspct</td>\n",
       "      <td>Own-child</td>\n",
       "      <td>Black</td>\n",
       "      <td>Male</td>\n",
       "      <td>0</td>\n",
       "      <td>0</td>\n",
       "      <td>40</td>\n",
       "      <td>United-States</td>\n",
       "      <td>&lt;=50K</td>\n",
       "    </tr>\n",
       "    <tr>\n",
       "      <th>1</th>\n",
       "      <td>38</td>\n",
       "      <td>Private</td>\n",
       "      <td>HS-grad</td>\n",
       "      <td>9</td>\n",
       "      <td>Married-civ-spouse</td>\n",
       "      <td>Farming-fishing</td>\n",
       "      <td>Husband</td>\n",
       "      <td>White</td>\n",
       "      <td>Male</td>\n",
       "      <td>0</td>\n",
       "      <td>0</td>\n",
       "      <td>50</td>\n",
       "      <td>United-States</td>\n",
       "      <td>&lt;=50K</td>\n",
       "    </tr>\n",
       "    <tr>\n",
       "      <th>2</th>\n",
       "      <td>28</td>\n",
       "      <td>Local-gov</td>\n",
       "      <td>Assoc-acdm</td>\n",
       "      <td>12</td>\n",
       "      <td>Married-civ-spouse</td>\n",
       "      <td>Protective-serv</td>\n",
       "      <td>Husband</td>\n",
       "      <td>White</td>\n",
       "      <td>Male</td>\n",
       "      <td>0</td>\n",
       "      <td>0</td>\n",
       "      <td>40</td>\n",
       "      <td>United-States</td>\n",
       "      <td>&gt;50K</td>\n",
       "    </tr>\n",
       "    <tr>\n",
       "      <th>3</th>\n",
       "      <td>44</td>\n",
       "      <td>Private</td>\n",
       "      <td>Some-college</td>\n",
       "      <td>10</td>\n",
       "      <td>Married-civ-spouse</td>\n",
       "      <td>Machine-op-inspct</td>\n",
       "      <td>Husband</td>\n",
       "      <td>Black</td>\n",
       "      <td>Male</td>\n",
       "      <td>7688</td>\n",
       "      <td>0</td>\n",
       "      <td>40</td>\n",
       "      <td>United-States</td>\n",
       "      <td>&gt;50K</td>\n",
       "    </tr>\n",
       "    <tr>\n",
       "      <th>4</th>\n",
       "      <td>18</td>\n",
       "      <td>?</td>\n",
       "      <td>Some-college</td>\n",
       "      <td>10</td>\n",
       "      <td>Never-married</td>\n",
       "      <td>?</td>\n",
       "      <td>Own-child</td>\n",
       "      <td>White</td>\n",
       "      <td>Female</td>\n",
       "      <td>0</td>\n",
       "      <td>0</td>\n",
       "      <td>30</td>\n",
       "      <td>United-States</td>\n",
       "      <td>&lt;=50K</td>\n",
       "    </tr>\n",
       "  </tbody>\n",
       "</table>\n",
       "</div>"
      ],
      "text/plain": [
       "   age  workclass     education  educational-num      marital-status  \\\n",
       "0   25    Private          11th                7       Never-married   \n",
       "1   38    Private       HS-grad                9  Married-civ-spouse   \n",
       "2   28  Local-gov    Assoc-acdm               12  Married-civ-spouse   \n",
       "3   44    Private  Some-college               10  Married-civ-spouse   \n",
       "4   18          ?  Some-college               10       Never-married   \n",
       "\n",
       "          occupation relationship   race  gender  capital-gain  capital-loss  \\\n",
       "0  Machine-op-inspct    Own-child  Black    Male             0             0   \n",
       "1    Farming-fishing      Husband  White    Male             0             0   \n",
       "2    Protective-serv      Husband  White    Male             0             0   \n",
       "3  Machine-op-inspct      Husband  Black    Male          7688             0   \n",
       "4                  ?    Own-child  White  Female             0             0   \n",
       "\n",
       "   hours-per-week native-country income  \n",
       "0              40  United-States  <=50K  \n",
       "1              50  United-States  <=50K  \n",
       "2              40  United-States   >50K  \n",
       "3              40  United-States   >50K  \n",
       "4              30  United-States  <=50K  "
      ]
     },
     "execution_count": 2,
     "metadata": {},
     "output_type": "execute_result"
    }
   ],
   "source": [
    "data = pd.read_excel(\"adult.xlsx\")\n",
    "data.head()"
   ]
  },
  {
   "cell_type": "code",
   "execution_count": 3,
   "id": "544db156",
   "metadata": {},
   "outputs": [],
   "source": [
    "data_num = data.copy()"
   ]
  },
  {
   "cell_type": "code",
   "execution_count": 4,
   "id": "7050d52e",
   "metadata": {},
   "outputs": [
    {
     "data": {
      "text/html": [
       "<div>\n",
       "<style scoped>\n",
       "    .dataframe tbody tr th:only-of-type {\n",
       "        vertical-align: middle;\n",
       "    }\n",
       "\n",
       "    .dataframe tbody tr th {\n",
       "        vertical-align: top;\n",
       "    }\n",
       "\n",
       "    .dataframe thead th {\n",
       "        text-align: right;\n",
       "    }\n",
       "</style>\n",
       "<table border=\"1\" class=\"dataframe\">\n",
       "  <thead>\n",
       "    <tr style=\"text-align: right;\">\n",
       "      <th></th>\n",
       "      <th>age</th>\n",
       "      <th>educational-num</th>\n",
       "      <th>capital-gain</th>\n",
       "      <th>capital-loss</th>\n",
       "      <th>hours-per-week</th>\n",
       "    </tr>\n",
       "  </thead>\n",
       "  <tbody>\n",
       "    <tr>\n",
       "      <th>count</th>\n",
       "      <td>48842.000000</td>\n",
       "      <td>48842.000000</td>\n",
       "      <td>48842.000000</td>\n",
       "      <td>48842.000000</td>\n",
       "      <td>48842.000000</td>\n",
       "    </tr>\n",
       "    <tr>\n",
       "      <th>mean</th>\n",
       "      <td>38.643585</td>\n",
       "      <td>10.078089</td>\n",
       "      <td>1079.067626</td>\n",
       "      <td>87.502314</td>\n",
       "      <td>40.422382</td>\n",
       "    </tr>\n",
       "    <tr>\n",
       "      <th>std</th>\n",
       "      <td>13.710510</td>\n",
       "      <td>2.570973</td>\n",
       "      <td>7452.019058</td>\n",
       "      <td>403.004552</td>\n",
       "      <td>12.391444</td>\n",
       "    </tr>\n",
       "    <tr>\n",
       "      <th>min</th>\n",
       "      <td>17.000000</td>\n",
       "      <td>1.000000</td>\n",
       "      <td>0.000000</td>\n",
       "      <td>0.000000</td>\n",
       "      <td>1.000000</td>\n",
       "    </tr>\n",
       "    <tr>\n",
       "      <th>25%</th>\n",
       "      <td>28.000000</td>\n",
       "      <td>9.000000</td>\n",
       "      <td>0.000000</td>\n",
       "      <td>0.000000</td>\n",
       "      <td>40.000000</td>\n",
       "    </tr>\n",
       "    <tr>\n",
       "      <th>50%</th>\n",
       "      <td>37.000000</td>\n",
       "      <td>10.000000</td>\n",
       "      <td>0.000000</td>\n",
       "      <td>0.000000</td>\n",
       "      <td>40.000000</td>\n",
       "    </tr>\n",
       "    <tr>\n",
       "      <th>75%</th>\n",
       "      <td>48.000000</td>\n",
       "      <td>12.000000</td>\n",
       "      <td>0.000000</td>\n",
       "      <td>0.000000</td>\n",
       "      <td>45.000000</td>\n",
       "    </tr>\n",
       "    <tr>\n",
       "      <th>max</th>\n",
       "      <td>90.000000</td>\n",
       "      <td>16.000000</td>\n",
       "      <td>99999.000000</td>\n",
       "      <td>4356.000000</td>\n",
       "      <td>99.000000</td>\n",
       "    </tr>\n",
       "  </tbody>\n",
       "</table>\n",
       "</div>"
      ],
      "text/plain": [
       "                age  educational-num  capital-gain  capital-loss  \\\n",
       "count  48842.000000     48842.000000  48842.000000  48842.000000   \n",
       "mean      38.643585        10.078089   1079.067626     87.502314   \n",
       "std       13.710510         2.570973   7452.019058    403.004552   \n",
       "min       17.000000         1.000000      0.000000      0.000000   \n",
       "25%       28.000000         9.000000      0.000000      0.000000   \n",
       "50%       37.000000        10.000000      0.000000      0.000000   \n",
       "75%       48.000000        12.000000      0.000000      0.000000   \n",
       "max       90.000000        16.000000  99999.000000   4356.000000   \n",
       "\n",
       "       hours-per-week  \n",
       "count    48842.000000  \n",
       "mean        40.422382  \n",
       "std         12.391444  \n",
       "min          1.000000  \n",
       "25%         40.000000  \n",
       "50%         40.000000  \n",
       "75%         45.000000  \n",
       "max         99.000000  "
      ]
     },
     "execution_count": 4,
     "metadata": {},
     "output_type": "execute_result"
    }
   ],
   "source": [
    "data.describe()"
   ]
  },
  {
   "cell_type": "code",
   "execution_count": 5,
   "id": "53b8a51f",
   "metadata": {},
   "outputs": [
    {
     "data": {
      "text/html": [
       "<div>\n",
       "<style scoped>\n",
       "    .dataframe tbody tr th:only-of-type {\n",
       "        vertical-align: middle;\n",
       "    }\n",
       "\n",
       "    .dataframe tbody tr th {\n",
       "        vertical-align: top;\n",
       "    }\n",
       "\n",
       "    .dataframe thead th {\n",
       "        text-align: right;\n",
       "    }\n",
       "</style>\n",
       "<table border=\"1\" class=\"dataframe\">\n",
       "  <thead>\n",
       "    <tr style=\"text-align: right;\">\n",
       "      <th></th>\n",
       "      <th>workclass</th>\n",
       "      <th>education</th>\n",
       "      <th>marital-status</th>\n",
       "      <th>occupation</th>\n",
       "      <th>relationship</th>\n",
       "      <th>race</th>\n",
       "      <th>gender</th>\n",
       "      <th>native-country</th>\n",
       "      <th>income</th>\n",
       "    </tr>\n",
       "  </thead>\n",
       "  <tbody>\n",
       "    <tr>\n",
       "      <th>count</th>\n",
       "      <td>48842</td>\n",
       "      <td>48842</td>\n",
       "      <td>48842</td>\n",
       "      <td>48842</td>\n",
       "      <td>48842</td>\n",
       "      <td>48842</td>\n",
       "      <td>48842</td>\n",
       "      <td>48842</td>\n",
       "      <td>48842</td>\n",
       "    </tr>\n",
       "    <tr>\n",
       "      <th>unique</th>\n",
       "      <td>9</td>\n",
       "      <td>16</td>\n",
       "      <td>7</td>\n",
       "      <td>15</td>\n",
       "      <td>6</td>\n",
       "      <td>5</td>\n",
       "      <td>2</td>\n",
       "      <td>42</td>\n",
       "      <td>2</td>\n",
       "    </tr>\n",
       "    <tr>\n",
       "      <th>top</th>\n",
       "      <td>Private</td>\n",
       "      <td>HS-grad</td>\n",
       "      <td>Married-civ-spouse</td>\n",
       "      <td>Prof-specialty</td>\n",
       "      <td>Husband</td>\n",
       "      <td>White</td>\n",
       "      <td>Male</td>\n",
       "      <td>United-States</td>\n",
       "      <td>&lt;=50K</td>\n",
       "    </tr>\n",
       "    <tr>\n",
       "      <th>freq</th>\n",
       "      <td>33906</td>\n",
       "      <td>15784</td>\n",
       "      <td>22379</td>\n",
       "      <td>6172</td>\n",
       "      <td>19716</td>\n",
       "      <td>41762</td>\n",
       "      <td>32650</td>\n",
       "      <td>43832</td>\n",
       "      <td>37155</td>\n",
       "    </tr>\n",
       "  </tbody>\n",
       "</table>\n",
       "</div>"
      ],
      "text/plain": [
       "       workclass education      marital-status      occupation relationship  \\\n",
       "count      48842     48842               48842           48842        48842   \n",
       "unique         9        16                   7              15            6   \n",
       "top      Private   HS-grad  Married-civ-spouse  Prof-specialty      Husband   \n",
       "freq       33906     15784               22379            6172        19716   \n",
       "\n",
       "         race gender native-country income  \n",
       "count   48842  48842          48842  48842  \n",
       "unique      5      2             42      2  \n",
       "top     White   Male  United-States  <=50K  \n",
       "freq    41762  32650          43832  37155  "
      ]
     },
     "execution_count": 5,
     "metadata": {},
     "output_type": "execute_result"
    }
   ],
   "source": [
    "data.describe(include = [\"O\"])"
   ]
  },
  {
   "cell_type": "code",
   "execution_count": 6,
   "id": "807dbd40",
   "metadata": {},
   "outputs": [
    {
     "data": {
      "text/plain": [
       "age                0\n",
       "workclass          0\n",
       "education          0\n",
       "educational-num    0\n",
       "marital-status     0\n",
       "occupation         0\n",
       "relationship       0\n",
       "race               0\n",
       "gender             0\n",
       "capital-gain       0\n",
       "capital-loss       0\n",
       "hours-per-week     0\n",
       "native-country     0\n",
       "income             0\n",
       "dtype: int64"
      ]
     },
     "execution_count": 6,
     "metadata": {},
     "output_type": "execute_result"
    }
   ],
   "source": [
    "data.isnull().sum()"
   ]
  },
  {
   "cell_type": "code",
   "execution_count": 7,
   "id": "a17411b5",
   "metadata": {},
   "outputs": [
    {
     "data": {
      "text/plain": [
       "array(['Private', 'Local-gov', '?', 'Self-emp-not-inc', 'Federal-gov',\n",
       "       'State-gov', 'Self-emp-inc', 'Without-pay', 'Never-worked'],\n",
       "      dtype=object)"
      ]
     },
     "execution_count": 7,
     "metadata": {},
     "output_type": "execute_result"
    }
   ],
   "source": [
    "data[\"workclass\"].unique()"
   ]
  },
  {
   "cell_type": "code",
   "execution_count": 8,
   "id": "7c1f6690",
   "metadata": {},
   "outputs": [
    {
     "data": {
      "text/plain": [
       "array(['Machine-op-inspct', 'Farming-fishing', 'Protective-serv', '?',\n",
       "       'Other-service', 'Prof-specialty', 'Craft-repair', 'Adm-clerical',\n",
       "       'Exec-managerial', 'Tech-support', 'Sales', 'Priv-house-serv',\n",
       "       'Transport-moving', 'Handlers-cleaners', 'Armed-Forces'],\n",
       "      dtype=object)"
      ]
     },
     "execution_count": 8,
     "metadata": {},
     "output_type": "execute_result"
    }
   ],
   "source": [
    "data[\"occupation\"].unique()"
   ]
  },
  {
   "cell_type": "code",
   "execution_count": 9,
   "id": "505cdb7e",
   "metadata": {},
   "outputs": [
    {
     "data": {
      "text/plain": [
       "array(['United-States', '?', 'Peru', 'Guatemala', 'Mexico',\n",
       "       'Dominican-Republic', 'Ireland', 'Germany', 'Philippines',\n",
       "       'Thailand', 'Haiti', 'El-Salvador', 'Puerto-Rico', 'Vietnam',\n",
       "       'South', 'Columbia', 'Japan', 'India', 'Cambodia', 'Poland',\n",
       "       'Laos', 'England', 'Cuba', 'Taiwan', 'Italy', 'Canada', 'Portugal',\n",
       "       'China', 'Nicaragua', 'Honduras', 'Iran', 'Scotland', 'Jamaica',\n",
       "       'Ecuador', 'Yugoslavia', 'Hungary', 'Hong', 'Greece',\n",
       "       'Trinadad&Tobago', 'Outlying-US(Guam-USVI-etc)', 'France',\n",
       "       'Holand-Netherlands'], dtype=object)"
      ]
     },
     "execution_count": 9,
     "metadata": {},
     "output_type": "execute_result"
    }
   ],
   "source": [
    "data[\"native-country\"].unique()"
   ]
  },
  {
   "cell_type": "markdown",
   "id": "f18bb6bc",
   "metadata": {},
   "source": [
    "# we notice \"?\" mark in two coloumns , so we need to replace those with appropriate values\n",
    "# Hence data cleaning is required"
   ]
  },
  {
   "cell_type": "code",
   "execution_count": 10,
   "id": "95e7c40e",
   "metadata": {},
   "outputs": [],
   "source": [
    "attrib, counts = np.unique(data[\"workclass\"], return_counts = True)\n",
    "most_freq_attrib = attrib[np.argmax(counts,axis = 0)]\n",
    "data.workclass[data.workclass == \"?\"] = most_freq_attrib\n"
   ]
  },
  {
   "cell_type": "code",
   "execution_count": 11,
   "id": "0fb25d85",
   "metadata": {},
   "outputs": [],
   "source": [
    "attrib, counts = np.unique(data.occupation, return_counts = True)\n",
    "most_freq_attrib = attrib[np.argmax(counts, axis = 0)]\n",
    "data.occupation[data.occupation == \"?\"] = most_freq_attrib\n"
   ]
  },
  {
   "cell_type": "code",
   "execution_count": 12,
   "id": "f65b9242",
   "metadata": {},
   "outputs": [],
   "source": [
    "attrib, counts = np.unique(data[\"native-country\"], return_counts = True)\n",
    "most_freq_attrib = attrib[np.argmax(counts,axis = 0)]\n",
    "data[\"native-country\"][data[\"native-country\"] == \"?\"] = most_freq_attrib"
   ]
  },
  {
   "cell_type": "code",
   "execution_count": 13,
   "id": "3517db30",
   "metadata": {},
   "outputs": [
    {
     "data": {
      "text/plain": [
       "0        <=50K\n",
       "1        <=50K\n",
       "2         >50K\n",
       "3         >50K\n",
       "4        <=50K\n",
       "         ...  \n",
       "48837    <=50K\n",
       "48838     >50K\n",
       "48839    <=50K\n",
       "48840    <=50K\n",
       "48841     >50K\n",
       "Name: income, Length: 48842, dtype: object"
      ]
     },
     "execution_count": 13,
     "metadata": {},
     "output_type": "execute_result"
    }
   ],
   "source": [
    "data.income"
   ]
  },
  {
   "cell_type": "code",
   "execution_count": 14,
   "id": "57db8669",
   "metadata": {},
   "outputs": [
    {
     "name": "stdout",
     "output_type": "stream",
     "text": [
      "['<=50K' '>50K']\n",
      "[37155 11687]\n"
     ]
    },
    {
     "data": {
      "text/plain": [
       "array(['<=50K', '>50K'], dtype=object)"
      ]
     },
     "execution_count": 14,
     "metadata": {},
     "output_type": "execute_result"
    }
   ],
   "source": [
    "attrib,counts = np.unique(data.income, return_counts = True)\n",
    "\n",
    "print(attrib)\n",
    "print(counts)\n",
    "\n",
    "data.income.unique()"
   ]
  },
  {
   "cell_type": "code",
   "execution_count": 15,
   "id": "24ecbe78",
   "metadata": {},
   "outputs": [
    {
     "data": {
      "text/plain": [
       "array(['Private', 'Local-gov', 'Self-emp-not-inc', 'Federal-gov',\n",
       "       'State-gov', 'Self-emp-inc', 'Without-pay', 'Never-worked'],\n",
       "      dtype=object)"
      ]
     },
     "execution_count": 15,
     "metadata": {},
     "output_type": "execute_result"
    }
   ],
   "source": [
    "data.workclass.unique()"
   ]
  },
  {
   "cell_type": "code",
   "execution_count": 16,
   "id": "0143e31b",
   "metadata": {},
   "outputs": [
    {
     "name": "stdout",
     "output_type": "stream",
     "text": [
      "['<=50K' '>50K']\n",
      "[37155 11687]\n"
     ]
    },
    {
     "data": {
      "text/plain": [
       "array(['<=50K', '>50K'], dtype=object)"
      ]
     },
     "execution_count": 16,
     "metadata": {},
     "output_type": "execute_result"
    }
   ],
   "source": [
    "attrib,counts = np.unique(data.income, return_counts = True)\n",
    "\n",
    "print(attrib)\n",
    "print(counts)\n",
    "\n",
    "data.income.unique()"
   ]
  },
  {
   "cell_type": "code",
   "execution_count": 17,
   "id": "0332790e",
   "metadata": {},
   "outputs": [],
   "source": [
    "data.income = data.income.map({\"<=50K\":0, \">50K\":1})"
   ]
  },
  {
   "cell_type": "code",
   "execution_count": 18,
   "id": "773e8775",
   "metadata": {},
   "outputs": [
    {
     "data": {
      "text/plain": [
       "0        0\n",
       "1        0\n",
       "2        1\n",
       "3        1\n",
       "4        0\n",
       "        ..\n",
       "48837    0\n",
       "48838    1\n",
       "48839    0\n",
       "48840    0\n",
       "48841    1\n",
       "Name: income, Length: 48842, dtype: int64"
      ]
     },
     "execution_count": 18,
     "metadata": {},
     "output_type": "execute_result"
    }
   ],
   "source": [
    "data.income"
   ]
  },
  {
   "cell_type": "code",
   "execution_count": null,
   "id": "2b8d4d3a",
   "metadata": {},
   "outputs": [],
   "source": []
  },
  {
   "cell_type": "code",
   "execution_count": 19,
   "id": "af1279a9",
   "metadata": {},
   "outputs": [],
   "source": [
    "data_num = data.drop([\"educational-num\",\"income\"], axis = 1)"
   ]
  },
  {
   "cell_type": "code",
   "execution_count": 20,
   "id": "514c987b",
   "metadata": {},
   "outputs": [
    {
     "data": {
      "text/html": [
       "<div>\n",
       "<style scoped>\n",
       "    .dataframe tbody tr th:only-of-type {\n",
       "        vertical-align: middle;\n",
       "    }\n",
       "\n",
       "    .dataframe tbody tr th {\n",
       "        vertical-align: top;\n",
       "    }\n",
       "\n",
       "    .dataframe thead th {\n",
       "        text-align: right;\n",
       "    }\n",
       "</style>\n",
       "<table border=\"1\" class=\"dataframe\">\n",
       "  <thead>\n",
       "    <tr style=\"text-align: right;\">\n",
       "      <th></th>\n",
       "      <th>age</th>\n",
       "      <th>workclass</th>\n",
       "      <th>education</th>\n",
       "      <th>marital-status</th>\n",
       "      <th>occupation</th>\n",
       "      <th>relationship</th>\n",
       "      <th>race</th>\n",
       "      <th>gender</th>\n",
       "      <th>capital-gain</th>\n",
       "      <th>capital-loss</th>\n",
       "      <th>hours-per-week</th>\n",
       "      <th>native-country</th>\n",
       "    </tr>\n",
       "  </thead>\n",
       "  <tbody>\n",
       "    <tr>\n",
       "      <th>0</th>\n",
       "      <td>25</td>\n",
       "      <td>Private</td>\n",
       "      <td>11th</td>\n",
       "      <td>Never-married</td>\n",
       "      <td>Machine-op-inspct</td>\n",
       "      <td>Own-child</td>\n",
       "      <td>Black</td>\n",
       "      <td>Male</td>\n",
       "      <td>0</td>\n",
       "      <td>0</td>\n",
       "      <td>40</td>\n",
       "      <td>United-States</td>\n",
       "    </tr>\n",
       "    <tr>\n",
       "      <th>1</th>\n",
       "      <td>38</td>\n",
       "      <td>Private</td>\n",
       "      <td>HS-grad</td>\n",
       "      <td>Married-civ-spouse</td>\n",
       "      <td>Farming-fishing</td>\n",
       "      <td>Husband</td>\n",
       "      <td>White</td>\n",
       "      <td>Male</td>\n",
       "      <td>0</td>\n",
       "      <td>0</td>\n",
       "      <td>50</td>\n",
       "      <td>United-States</td>\n",
       "    </tr>\n",
       "    <tr>\n",
       "      <th>2</th>\n",
       "      <td>28</td>\n",
       "      <td>Local-gov</td>\n",
       "      <td>Assoc-acdm</td>\n",
       "      <td>Married-civ-spouse</td>\n",
       "      <td>Protective-serv</td>\n",
       "      <td>Husband</td>\n",
       "      <td>White</td>\n",
       "      <td>Male</td>\n",
       "      <td>0</td>\n",
       "      <td>0</td>\n",
       "      <td>40</td>\n",
       "      <td>United-States</td>\n",
       "    </tr>\n",
       "    <tr>\n",
       "      <th>3</th>\n",
       "      <td>44</td>\n",
       "      <td>Private</td>\n",
       "      <td>Some-college</td>\n",
       "      <td>Married-civ-spouse</td>\n",
       "      <td>Machine-op-inspct</td>\n",
       "      <td>Husband</td>\n",
       "      <td>Black</td>\n",
       "      <td>Male</td>\n",
       "      <td>7688</td>\n",
       "      <td>0</td>\n",
       "      <td>40</td>\n",
       "      <td>United-States</td>\n",
       "    </tr>\n",
       "    <tr>\n",
       "      <th>4</th>\n",
       "      <td>18</td>\n",
       "      <td>Private</td>\n",
       "      <td>Some-college</td>\n",
       "      <td>Never-married</td>\n",
       "      <td>Prof-specialty</td>\n",
       "      <td>Own-child</td>\n",
       "      <td>White</td>\n",
       "      <td>Female</td>\n",
       "      <td>0</td>\n",
       "      <td>0</td>\n",
       "      <td>30</td>\n",
       "      <td>United-States</td>\n",
       "    </tr>\n",
       "    <tr>\n",
       "      <th>...</th>\n",
       "      <td>...</td>\n",
       "      <td>...</td>\n",
       "      <td>...</td>\n",
       "      <td>...</td>\n",
       "      <td>...</td>\n",
       "      <td>...</td>\n",
       "      <td>...</td>\n",
       "      <td>...</td>\n",
       "      <td>...</td>\n",
       "      <td>...</td>\n",
       "      <td>...</td>\n",
       "      <td>...</td>\n",
       "    </tr>\n",
       "    <tr>\n",
       "      <th>48837</th>\n",
       "      <td>27</td>\n",
       "      <td>Private</td>\n",
       "      <td>Assoc-acdm</td>\n",
       "      <td>Married-civ-spouse</td>\n",
       "      <td>Tech-support</td>\n",
       "      <td>Wife</td>\n",
       "      <td>White</td>\n",
       "      <td>Female</td>\n",
       "      <td>0</td>\n",
       "      <td>0</td>\n",
       "      <td>38</td>\n",
       "      <td>United-States</td>\n",
       "    </tr>\n",
       "    <tr>\n",
       "      <th>48838</th>\n",
       "      <td>40</td>\n",
       "      <td>Private</td>\n",
       "      <td>HS-grad</td>\n",
       "      <td>Married-civ-spouse</td>\n",
       "      <td>Machine-op-inspct</td>\n",
       "      <td>Husband</td>\n",
       "      <td>White</td>\n",
       "      <td>Male</td>\n",
       "      <td>0</td>\n",
       "      <td>0</td>\n",
       "      <td>40</td>\n",
       "      <td>United-States</td>\n",
       "    </tr>\n",
       "    <tr>\n",
       "      <th>48839</th>\n",
       "      <td>58</td>\n",
       "      <td>Private</td>\n",
       "      <td>HS-grad</td>\n",
       "      <td>Widowed</td>\n",
       "      <td>Adm-clerical</td>\n",
       "      <td>Unmarried</td>\n",
       "      <td>White</td>\n",
       "      <td>Female</td>\n",
       "      <td>0</td>\n",
       "      <td>0</td>\n",
       "      <td>40</td>\n",
       "      <td>United-States</td>\n",
       "    </tr>\n",
       "    <tr>\n",
       "      <th>48840</th>\n",
       "      <td>22</td>\n",
       "      <td>Private</td>\n",
       "      <td>HS-grad</td>\n",
       "      <td>Never-married</td>\n",
       "      <td>Adm-clerical</td>\n",
       "      <td>Own-child</td>\n",
       "      <td>White</td>\n",
       "      <td>Male</td>\n",
       "      <td>0</td>\n",
       "      <td>0</td>\n",
       "      <td>20</td>\n",
       "      <td>United-States</td>\n",
       "    </tr>\n",
       "    <tr>\n",
       "      <th>48841</th>\n",
       "      <td>52</td>\n",
       "      <td>Self-emp-inc</td>\n",
       "      <td>HS-grad</td>\n",
       "      <td>Married-civ-spouse</td>\n",
       "      <td>Exec-managerial</td>\n",
       "      <td>Wife</td>\n",
       "      <td>White</td>\n",
       "      <td>Female</td>\n",
       "      <td>15024</td>\n",
       "      <td>0</td>\n",
       "      <td>40</td>\n",
       "      <td>United-States</td>\n",
       "    </tr>\n",
       "  </tbody>\n",
       "</table>\n",
       "<p>48842 rows × 12 columns</p>\n",
       "</div>"
      ],
      "text/plain": [
       "       age     workclass     education      marital-status         occupation  \\\n",
       "0       25       Private          11th       Never-married  Machine-op-inspct   \n",
       "1       38       Private       HS-grad  Married-civ-spouse    Farming-fishing   \n",
       "2       28     Local-gov    Assoc-acdm  Married-civ-spouse    Protective-serv   \n",
       "3       44       Private  Some-college  Married-civ-spouse  Machine-op-inspct   \n",
       "4       18       Private  Some-college       Never-married     Prof-specialty   \n",
       "...    ...           ...           ...                 ...                ...   \n",
       "48837   27       Private    Assoc-acdm  Married-civ-spouse       Tech-support   \n",
       "48838   40       Private       HS-grad  Married-civ-spouse  Machine-op-inspct   \n",
       "48839   58       Private       HS-grad             Widowed       Adm-clerical   \n",
       "48840   22       Private       HS-grad       Never-married       Adm-clerical   \n",
       "48841   52  Self-emp-inc       HS-grad  Married-civ-spouse    Exec-managerial   \n",
       "\n",
       "      relationship   race  gender  capital-gain  capital-loss  hours-per-week  \\\n",
       "0        Own-child  Black    Male             0             0              40   \n",
       "1          Husband  White    Male             0             0              50   \n",
       "2          Husband  White    Male             0             0              40   \n",
       "3          Husband  Black    Male          7688             0              40   \n",
       "4        Own-child  White  Female             0             0              30   \n",
       "...            ...    ...     ...           ...           ...             ...   \n",
       "48837         Wife  White  Female             0             0              38   \n",
       "48838      Husband  White    Male             0             0              40   \n",
       "48839    Unmarried  White  Female             0             0              40   \n",
       "48840    Own-child  White    Male             0             0              20   \n",
       "48841         Wife  White  Female         15024             0              40   \n",
       "\n",
       "      native-country  \n",
       "0      United-States  \n",
       "1      United-States  \n",
       "2      United-States  \n",
       "3      United-States  \n",
       "4      United-States  \n",
       "...              ...  \n",
       "48837  United-States  \n",
       "48838  United-States  \n",
       "48839  United-States  \n",
       "48840  United-States  \n",
       "48841  United-States  \n",
       "\n",
       "[48842 rows x 12 columns]"
      ]
     },
     "execution_count": 20,
     "metadata": {},
     "output_type": "execute_result"
    }
   ],
   "source": [
    "data_num"
   ]
  },
  {
   "cell_type": "code",
   "execution_count": 21,
   "id": "44aaeb49",
   "metadata": {},
   "outputs": [
    {
     "data": {
      "text/html": [
       "<div>\n",
       "<style scoped>\n",
       "    .dataframe tbody tr th:only-of-type {\n",
       "        vertical-align: middle;\n",
       "    }\n",
       "\n",
       "    .dataframe tbody tr th {\n",
       "        vertical-align: top;\n",
       "    }\n",
       "\n",
       "    .dataframe thead th {\n",
       "        text-align: right;\n",
       "    }\n",
       "</style>\n",
       "<table border=\"1\" class=\"dataframe\">\n",
       "  <thead>\n",
       "    <tr style=\"text-align: right;\">\n",
       "      <th></th>\n",
       "      <th>age</th>\n",
       "      <th>capital-gain</th>\n",
       "      <th>capital-loss</th>\n",
       "      <th>hours-per-week</th>\n",
       "    </tr>\n",
       "  </thead>\n",
       "  <tbody>\n",
       "    <tr>\n",
       "      <th>count</th>\n",
       "      <td>48842.000000</td>\n",
       "      <td>48842.000000</td>\n",
       "      <td>48842.000000</td>\n",
       "      <td>48842.000000</td>\n",
       "    </tr>\n",
       "    <tr>\n",
       "      <th>mean</th>\n",
       "      <td>38.643585</td>\n",
       "      <td>1079.067626</td>\n",
       "      <td>87.502314</td>\n",
       "      <td>40.422382</td>\n",
       "    </tr>\n",
       "    <tr>\n",
       "      <th>std</th>\n",
       "      <td>13.710510</td>\n",
       "      <td>7452.019058</td>\n",
       "      <td>403.004552</td>\n",
       "      <td>12.391444</td>\n",
       "    </tr>\n",
       "    <tr>\n",
       "      <th>min</th>\n",
       "      <td>17.000000</td>\n",
       "      <td>0.000000</td>\n",
       "      <td>0.000000</td>\n",
       "      <td>1.000000</td>\n",
       "    </tr>\n",
       "    <tr>\n",
       "      <th>25%</th>\n",
       "      <td>28.000000</td>\n",
       "      <td>0.000000</td>\n",
       "      <td>0.000000</td>\n",
       "      <td>40.000000</td>\n",
       "    </tr>\n",
       "    <tr>\n",
       "      <th>50%</th>\n",
       "      <td>37.000000</td>\n",
       "      <td>0.000000</td>\n",
       "      <td>0.000000</td>\n",
       "      <td>40.000000</td>\n",
       "    </tr>\n",
       "    <tr>\n",
       "      <th>75%</th>\n",
       "      <td>48.000000</td>\n",
       "      <td>0.000000</td>\n",
       "      <td>0.000000</td>\n",
       "      <td>45.000000</td>\n",
       "    </tr>\n",
       "    <tr>\n",
       "      <th>max</th>\n",
       "      <td>90.000000</td>\n",
       "      <td>99999.000000</td>\n",
       "      <td>4356.000000</td>\n",
       "      <td>99.000000</td>\n",
       "    </tr>\n",
       "  </tbody>\n",
       "</table>\n",
       "</div>"
      ],
      "text/plain": [
       "                age  capital-gain  capital-loss  hours-per-week\n",
       "count  48842.000000  48842.000000  48842.000000    48842.000000\n",
       "mean      38.643585   1079.067626     87.502314       40.422382\n",
       "std       13.710510   7452.019058    403.004552       12.391444\n",
       "min       17.000000      0.000000      0.000000        1.000000\n",
       "25%       28.000000      0.000000      0.000000       40.000000\n",
       "50%       37.000000      0.000000      0.000000       40.000000\n",
       "75%       48.000000      0.000000      0.000000       45.000000\n",
       "max       90.000000  99999.000000   4356.000000       99.000000"
      ]
     },
     "execution_count": 21,
     "metadata": {},
     "output_type": "execute_result"
    }
   ],
   "source": [
    "data_num.describe()"
   ]
  },
  {
   "cell_type": "code",
   "execution_count": 22,
   "id": "bd451ab7",
   "metadata": {},
   "outputs": [
    {
     "data": {
      "text/html": [
       "<div>\n",
       "<style scoped>\n",
       "    .dataframe tbody tr th:only-of-type {\n",
       "        vertical-align: middle;\n",
       "    }\n",
       "\n",
       "    .dataframe tbody tr th {\n",
       "        vertical-align: top;\n",
       "    }\n",
       "\n",
       "    .dataframe thead th {\n",
       "        text-align: right;\n",
       "    }\n",
       "</style>\n",
       "<table border=\"1\" class=\"dataframe\">\n",
       "  <thead>\n",
       "    <tr style=\"text-align: right;\">\n",
       "      <th></th>\n",
       "      <th>workclass</th>\n",
       "      <th>education</th>\n",
       "      <th>marital-status</th>\n",
       "      <th>occupation</th>\n",
       "      <th>relationship</th>\n",
       "      <th>race</th>\n",
       "      <th>gender</th>\n",
       "      <th>native-country</th>\n",
       "    </tr>\n",
       "  </thead>\n",
       "  <tbody>\n",
       "    <tr>\n",
       "      <th>count</th>\n",
       "      <td>48842</td>\n",
       "      <td>48842</td>\n",
       "      <td>48842</td>\n",
       "      <td>48842</td>\n",
       "      <td>48842</td>\n",
       "      <td>48842</td>\n",
       "      <td>48842</td>\n",
       "      <td>48842</td>\n",
       "    </tr>\n",
       "    <tr>\n",
       "      <th>unique</th>\n",
       "      <td>8</td>\n",
       "      <td>16</td>\n",
       "      <td>7</td>\n",
       "      <td>14</td>\n",
       "      <td>6</td>\n",
       "      <td>5</td>\n",
       "      <td>2</td>\n",
       "      <td>41</td>\n",
       "    </tr>\n",
       "    <tr>\n",
       "      <th>top</th>\n",
       "      <td>Private</td>\n",
       "      <td>HS-grad</td>\n",
       "      <td>Married-civ-spouse</td>\n",
       "      <td>Prof-specialty</td>\n",
       "      <td>Husband</td>\n",
       "      <td>White</td>\n",
       "      <td>Male</td>\n",
       "      <td>United-States</td>\n",
       "    </tr>\n",
       "    <tr>\n",
       "      <th>freq</th>\n",
       "      <td>36705</td>\n",
       "      <td>15784</td>\n",
       "      <td>22379</td>\n",
       "      <td>8981</td>\n",
       "      <td>19716</td>\n",
       "      <td>41762</td>\n",
       "      <td>32650</td>\n",
       "      <td>44689</td>\n",
       "    </tr>\n",
       "  </tbody>\n",
       "</table>\n",
       "</div>"
      ],
      "text/plain": [
       "       workclass education      marital-status      occupation relationship  \\\n",
       "count      48842     48842               48842           48842        48842   \n",
       "unique         8        16                   7              14            6   \n",
       "top      Private   HS-grad  Married-civ-spouse  Prof-specialty      Husband   \n",
       "freq       36705     15784               22379            8981        19716   \n",
       "\n",
       "         race gender native-country  \n",
       "count   48842  48842          48842  \n",
       "unique      5      2             41  \n",
       "top     White   Male  United-States  \n",
       "freq    41762  32650          44689  "
      ]
     },
     "execution_count": 22,
     "metadata": {},
     "output_type": "execute_result"
    }
   ],
   "source": [
    "data_num.describe(include = [\"O\"])"
   ]
  },
  {
   "cell_type": "markdown",
   "id": "0f8a2674",
   "metadata": {},
   "source": [
    "# EDA ( Exploratary Data Analysis)\n",
    "# Age\n",
    "# i. Distribution"
   ]
  },
  {
   "cell_type": "code",
   "execution_count": 23,
   "id": "da4dde78",
   "metadata": {},
   "outputs": [
    {
     "data": {
      "image/png": "[encoded data removed]",
      "text/plain": [
       "<Figure size 288x288 with 1 Axes>"
      ]
     },
     "metadata": {
      "needs_background": "light"
     },
     "output_type": "display_data"
    }
   ],
   "source": [
    "data.age.hist(figsize = (4,4))\n",
    "plt.xlabel(\"Age\")\n",
    "plt.ylabel(\"No of people\")\n",
    "plt.show()"
   ]
  },
  {
   "cell_type": "code",
   "execution_count": 24,
   "id": "811cf787",
   "metadata": {},
   "outputs": [
    {
     "data": {
      "text/plain": [
       "868"
      ]
     },
     "execution_count": 24,
     "metadata": {},
     "output_type": "execute_result"
    }
   ],
   "source": [
    "len(data.age[data.age > 70])"
   ]
  },
  {
   "cell_type": "code",
   "execution_count": 25,
   "id": "425505ef",
   "metadata": {},
   "outputs": [
    {
     "data": {
      "text/plain": [
       "<AxesSubplot:>"
      ]
     },
     "execution_count": 25,
     "metadata": {},
     "output_type": "execute_result"
    },
    {
     "data": {
      "image/png": "[encoded data removed]",
      "text/plain": [
       "<Figure size 432x288 with 1 Axes>"
      ]
     },
     "metadata": {
      "needs_background": "light"
     },
     "output_type": "display_data"
    }
   ],
   "source": [
    "sns.boxplot(data.age)"
   ]
  },
  {
   "cell_type": "code",
   "execution_count": 26,
   "id": "492331c7",
   "metadata": {},
   "outputs": [
    {
     "data": {
      "text/plain": [
       "<AxesSubplot:>"
      ]
     },
     "execution_count": 26,
     "metadata": {},
     "output_type": "execute_result"
    },
    {
     "data": {
      "image/png": "[encoded data removed]",
      "text/plain": [
       "<Figure size 432x288 with 1 Axes>"
      ]
     },
     "metadata": {
      "needs_background": "light"
     },
     "output_type": "display_data"
    }
   ],
   "source": [
    "sns.boxplot(data[\"hours-per-week\"])"
   ]
  },
  {
   "cell_type": "code",
   "execution_count": 27,
   "id": "d44bb2cd",
   "metadata": {},
   "outputs": [
    {
     "data": {
      "text/plain": [
       "<AxesSubplot:>"
      ]
     },
     "execution_count": 27,
     "metadata": {},
     "output_type": "execute_result"
    },
    {
     "data": {
      "image/png": "[encoded data removed]",
      "text/plain": [
       "<Figure size 720x288 with 1 Axes>"
      ]
     },
     "metadata": {
      "needs_background": "light"
     },
     "output_type": "display_data"
    }
   ],
   "source": [
    "data[\"hours-per-week\"].hist(figsize = (10,4))"
   ]
  },
  {
   "cell_type": "code",
   "execution_count": 28,
   "id": "e01fc708",
   "metadata": {},
   "outputs": [
    {
     "data": {
      "text/plain": [
       "<AxesSubplot:>"
      ]
     },
     "execution_count": 28,
     "metadata": {},
     "output_type": "execute_result"
    },
    {
     "data": {
      "image/png": "[encoded data removed]",
      "text/plain": [
       "<Figure size 720x288 with 1 Axes>"
      ]
     },
     "metadata": {
      "needs_background": "light"
     },
     "output_type": "display_data"
    }
   ],
   "source": [
    "data[\"capital-gain\"].hist(figsize = (10,4))"
   ]
  },
  {
   "cell_type": "code",
   "execution_count": 29,
   "id": "4cfc683f",
   "metadata": {},
   "outputs": [
    {
     "data": {
      "text/plain": [
       "<AxesSubplot:>"
      ]
     },
     "execution_count": 29,
     "metadata": {},
     "output_type": "execute_result"
    },
    {
     "data": {
      "image/png": "[encoded data removed]",
      "text/plain": [
       "<Figure size 720x288 with 1 Axes>"
      ]
     },
     "metadata": {
      "needs_background": "light"
     },
     "output_type": "display_data"
    }
   ],
   "source": [
    "data[\"capital-loss\"].hist(figsize = (10,4))"
   ]
  },
  {
   "cell_type": "code",
   "execution_count": 30,
   "id": "54800446",
   "metadata": {},
   "outputs": [
    {
     "data": {
      "image/png": "[encoded data removed]",
      "text/plain": [
       "<Figure size 360x360 with 1 Axes>"
      ]
     },
     "metadata": {
      "needs_background": "light"
     },
     "output_type": "display_data"
    }
   ],
   "source": [
    "sns.relplot(x= \"capital-gain\", y= \"capital-loss\", data = data)\n",
    "plt.xlabel(\"capital-gain\")\n",
    "plt.ylabel(\"capital-loss\")\n",
    "plt.show()"
   ]
  },
  {
   "cell_type": "code",
   "execution_count": 31,
   "id": "a87641b7",
   "metadata": {},
   "outputs": [
    {
     "data": {
      "text/plain": [
       "<function matplotlib.pyplot.show(close=None, block=None)>"
      ]
     },
     "execution_count": 31,
     "metadata": {},
     "output_type": "execute_result"
    },
    {
     "data": {
      "image/png": "[encoded data removed]",
      "text/plain": [
       "<Figure size 864x576 with 1 Axes>"
      ]
     },
     "metadata": {
      "needs_background": "light"
     },
     "output_type": "display_data"
    }
   ],
   "source": [
    "\n",
    "plt.figure(figsize = (12,8))\n",
    "ax = sns.countplot(x = data.workclass)\n",
    "plt.show\n"
   ]
  },
  {
   "cell_type": "code",
   "execution_count": 32,
   "id": "35610f01",
   "metadata": {},
   "outputs": [
    {
     "data": {
      "image/png": "[encoded data removed]",
      "text/plain": [
       "<Figure size 1440x576 with 1 Axes>"
      ]
     },
     "metadata": {
      "needs_background": "light"
     },
     "output_type": "display_data"
    }
   ],
   "source": [
    "plt.figure(figsize = (20,8))\n",
    "ax = sns.countplot(x = \"education\",data = data)\n",
    "plt.show()"
   ]
  },
  {
   "cell_type": "code",
   "execution_count": 33,
   "id": "c9db8003",
   "metadata": {},
   "outputs": [
    {
     "data": {
      "text/plain": [
       "83"
      ]
     },
     "execution_count": 33,
     "metadata": {},
     "output_type": "execute_result"
    }
   ],
   "source": [
    "len(data.education[data.education == \"Preschool\"])"
   ]
  },
  {
   "cell_type": "code",
   "execution_count": 34,
   "id": "a87d71bf",
   "metadata": {},
   "outputs": [
    {
     "data": {
      "text/plain": [
       "1389"
      ]
     },
     "execution_count": 34,
     "metadata": {},
     "output_type": "execute_result"
    }
   ],
   "source": [
    "len(data.education[data.education == \"10th\"])"
   ]
  },
  {
   "cell_type": "code",
   "execution_count": 35,
   "id": "ed5b96b0",
   "metadata": {},
   "outputs": [
    {
     "data": {
      "text/plain": [
       "0"
      ]
     },
     "execution_count": 35,
     "metadata": {},
     "output_type": "execute_result"
    }
   ],
   "source": [
    "len(data.education[data.education== \"HS grads\"])"
   ]
  },
  {
   "cell_type": "code",
   "execution_count": 36,
   "id": "b3804bd0",
   "metadata": {},
   "outputs": [
    {
     "data": {
      "image/png": "[encoded data removed]",
      "text/plain": [
       "<Figure size 1080x576 with 1 Axes>"
      ]
     },
     "metadata": {
      "needs_background": "light"
     },
     "output_type": "display_data"
    }
   ],
   "source": [
    "plt.figure(figsize = (15,8))\n",
    "ax = sns.countplot(x = \"marital-status\", data = data)\n",
    "plt.show()"
   ]
  },
  {
   "cell_type": "code",
   "execution_count": 37,
   "id": "56428011",
   "metadata": {},
   "outputs": [
    {
     "data": {
      "image/png": "[encoded data removed]",
      "text/plain": [
       "<Figure size 2160x576 with 1 Axes>"
      ]
     },
     "metadata": {
      "needs_background": "light"
     },
     "output_type": "display_data"
    }
   ],
   "source": [
    "plt.figure(figsize = (30,8))\n",
    "ax = sns.countplot(x = \"occupation\",data = data)\n",
    "plt.show()"
   ]
  },
  {
   "cell_type": "code",
   "execution_count": 38,
   "id": "34c06e13",
   "metadata": {},
   "outputs": [
    {
     "data": {
      "image/png": "[encoded data removed]",
      "text/plain": [
       "<Figure size 864x576 with 1 Axes>"
      ]
     },
     "metadata": {
      "needs_background": "light"
     },
     "output_type": "display_data"
    }
   ],
   "source": [
    "plt.figure(figsize = (12,8))\n",
    "ax = sns.countplot(x = \"relationship\", data = data)\n",
    "plt.show()"
   ]
  },
  {
   "cell_type": "code",
   "execution_count": 39,
   "id": "af7b9848",
   "metadata": {},
   "outputs": [
    {
     "data": {
      "text/plain": [
       "19716"
      ]
     },
     "execution_count": 39,
     "metadata": {},
     "output_type": "execute_result"
    }
   ],
   "source": [
    "len(data.relationship[data.relationship == \"Husband\"])"
   ]
  },
  {
   "cell_type": "code",
   "execution_count": 40,
   "id": "78fd1b79",
   "metadata": {},
   "outputs": [
    {
     "data": {
      "text/plain": [
       "2331"
      ]
     },
     "execution_count": 40,
     "metadata": {},
     "output_type": "execute_result"
    }
   ],
   "source": [
    "len(data.relationship[data.relationship == \"Wife\"])"
   ]
  },
  {
   "cell_type": "code",
   "execution_count": 41,
   "id": "2709b34b",
   "metadata": {},
   "outputs": [
    {
     "data": {
      "image/png": "[encoded data removed]",
      "text/plain": [
       "<Figure size 864x576 with 1 Axes>"
      ]
     },
     "metadata": {
      "needs_background": "light"
     },
     "output_type": "display_data"
    }
   ],
   "source": [
    "plt.figure(figsize =(12,8))\n",
    "ax = sns.countplot(x = \"race\", data = data)\n",
    "plt.show()"
   ]
  },
  {
   "cell_type": "code",
   "execution_count": 42,
   "id": "135de4c3",
   "metadata": {},
   "outputs": [
    {
     "name": "stdout",
     "output_type": "stream",
     "text": [
      "1519\n"
     ]
    },
    {
     "data": {
      "text/plain": [
       "array(['Black', 'White', 'Asian-Pac-Islander', 'Other',\n",
       "       'Amer-Indian-Eskimo'], dtype=object)"
      ]
     },
     "execution_count": 42,
     "metadata": {},
     "output_type": "execute_result"
    }
   ],
   "source": [
    "white = len(data.race[data.race == \"White\"])\n",
    "Black = len(data.race[data.race ==\"Black\"])\n",
    "asian_islander = len(data.race[data.race == \"Asian-Pac-Islander\"])\n",
    "other = len(data.race[data.race == \"Other\"])\n",
    "Amer_Indian_Eskimo = len(data.race[data.race == \"Amer-Indian-Eskimo\"])\n",
    "\n",
    "print(asian_islander)\n",
    "\n",
    "data.race.unique()"
   ]
  },
  {
   "cell_type": "code",
   "execution_count": 43,
   "id": "cf50a3bb",
   "metadata": {},
   "outputs": [],
   "source": [
    "l= len(data)"
   ]
  },
  {
   "cell_type": "code",
   "execution_count": 44,
   "id": "0b5a5d37",
   "metadata": {},
   "outputs": [
    {
     "name": "stdout",
     "output_type": "stream",
     "text": [
      "% of Blackin the working population: 9.59\n",
      "% of white in the working population: 85.5\n",
      "% of Asian-Pac-slander in the working population: 3.11\n",
      "% of Other in the working population: 0.83\n",
      "% of American-Indian-Eskimo in the working population: 0.96\n"
     ]
    }
   ],
   "source": [
    "print(\"% of Blackin the working population:\",round((Black/l)*100, 2))\n",
    "print(\"% of white in the working population:\",round((white/l)*100, 2))\n",
    "print(\"% of Asian-Pac-slander in the working population:\",round((asian_islander/l)*100, 2))\n",
    "print(\"% of Other in the working population:\",round((other/l)*100, 2))\n",
    "print(\"% of American-Indian-Eskimo in the working population:\",round((Amer_Indian_Eskimo/l)*100, 2))"
   ]
  },
  {
   "cell_type": "code",
   "execution_count": 45,
   "id": "d96ebc9b",
   "metadata": {},
   "outputs": [
    {
     "data": {
      "image/png": "[encoded data removed]",
      "text/plain": [
       "<Figure size 864x576 with 1 Axes>"
      ]
     },
     "metadata": {
      "needs_background": "light"
     },
     "output_type": "display_data"
    }
   ],
   "source": [
    "plt.figure(figsize = (12,8))\n",
    "ax = sns.countplot(x = \"gender\",data = data)\n",
    "plt.show()"
   ]
  },
  {
   "cell_type": "code",
   "execution_count": 46,
   "id": "d8f51541",
   "metadata": {},
   "outputs": [
    {
     "data": {
      "image/png": "[encoded data removed]",
      "text/plain": [
       "<Figure size 936x720 with 1 Axes>"
      ]
     },
     "metadata": {
      "needs_background": "light"
     },
     "output_type": "display_data"
    }
   ],
   "source": [
    "plt.figure(figsize = (13,10))\n",
    "ax = sns.countplot(y = \"native-country\",data = data)\n",
    "plt.show()"
   ]
  },
  {
   "cell_type": "code",
   "execution_count": 47,
   "id": "f43b4ea4",
   "metadata": {},
   "outputs": [],
   "source": [
    "native_country = len(data[\"native-country\"][data[\"native-country\"] == \"United-States\"])"
   ]
  },
  {
   "cell_type": "code",
   "execution_count": 48,
   "id": "c763ead4",
   "metadata": {},
   "outputs": [
    {
     "name": "stdout",
     "output_type": "stream",
     "text": [
      "the % of native americans in the working population: 91.49707219196593\n"
     ]
    }
   ],
   "source": [
    "print(\"the % of native americans in the working population:\",(native_country/l)*100)"
   ]
  },
  {
   "cell_type": "code",
   "execution_count": 49,
   "id": "b10356c2",
   "metadata": {},
   "outputs": [
    {
     "data": {
      "image/png": "[encoded data removed]",
      "text/plain": [
       "<Figure size 576x432 with 1 Axes>"
      ]
     },
     "metadata": {
      "needs_background": "light"
     },
     "output_type": "display_data"
    }
   ],
   "source": [
    "plt.figure(figsize =  (8,6))\n",
    "ax = sns.countplot(x = \"income\", data = data)\n",
    "plt.show()"
   ]
  },
  {
   "cell_type": "code",
   "execution_count": 50,
   "id": "5cc32da7",
   "metadata": {},
   "outputs": [
    {
     "name": "stdout",
     "output_type": "stream",
     "text": [
      "The number of people earning less than 50K: 37155 or  76.07182343065395 %\n",
      "The number of people earning greater than 50K: 11687 or  23.928176569346054 %\n"
     ]
    }
   ],
   "source": [
    "less_than_50K = len(data.income[data.income == 0])\n",
    "greater_than_50K = len(data.income[data.income == 1])\n",
    "\n",
    "print(\"The number of people earning less than 50K:\", less_than_50K, \"or \",(less_than_50K / l)*100, \"%\")\n",
    "print(\"The number of people earning greater than 50K:\", greater_than_50K, \"or \",(greater_than_50K / l)*100,\"%\")\n",
    "\n"
   ]
  },
  {
   "cell_type": "markdown",
   "id": "499839c7",
   "metadata": {},
   "source": [
    "# Bivatiate analysis\n",
    "# Age Vs income"
   ]
  },
  {
   "cell_type": "code",
   "execution_count": 51,
   "id": "861cb4ca",
   "metadata": {},
   "outputs": [
    {
     "data": {
      "image/png": "[encoded data removed]",
      "text/plain": [
       "<Figure size 720x576 with 1 Axes>"
      ]
     },
     "metadata": {
      "needs_background": "light"
     },
     "output_type": "display_data"
    }
   ],
   "source": [
    "plt.figure(figsize = (10,8))\n",
    "ax = sns.boxplot(x = \"income\", y = \"age\", data = data)\n",
    "plt.show()"
   ]
  },
  {
   "cell_type": "code",
   "execution_count": 52,
   "id": "23b883f3",
   "metadata": {},
   "outputs": [
    {
     "data": {
      "text/html": [
       "<div>\n",
       "<style scoped>\n",
       "    .dataframe tbody tr th:only-of-type {\n",
       "        vertical-align: middle;\n",
       "    }\n",
       "\n",
       "    .dataframe tbody tr th {\n",
       "        vertical-align: top;\n",
       "    }\n",
       "\n",
       "    .dataframe thead th {\n",
       "        text-align: right;\n",
       "    }\n",
       "</style>\n",
       "<table border=\"1\" class=\"dataframe\">\n",
       "  <thead>\n",
       "    <tr style=\"text-align: right;\">\n",
       "      <th></th>\n",
       "      <th>income</th>\n",
       "      <th>age</th>\n",
       "    </tr>\n",
       "  </thead>\n",
       "  <tbody>\n",
       "    <tr>\n",
       "      <th>1</th>\n",
       "      <td>1</td>\n",
       "      <td>43.0</td>\n",
       "    </tr>\n",
       "    <tr>\n",
       "      <th>0</th>\n",
       "      <td>0</td>\n",
       "      <td>34.0</td>\n",
       "    </tr>\n",
       "  </tbody>\n",
       "</table>\n",
       "</div>"
      ],
      "text/plain": [
       "   income   age\n",
       "1       1  43.0\n",
       "0       0  34.0"
      ]
     },
     "execution_count": 52,
     "metadata": {},
     "output_type": "execute_result"
    }
   ],
   "source": [
    "data[[\"income\",\"age\"]].groupby([\"income\"],as_index = False).median().sort_values(by = \"age\",ascending = False)"
   ]
  },
  {
   "cell_type": "code",
   "execution_count": 53,
   "id": "0e8aae6e",
   "metadata": {},
   "outputs": [
    {
     "name": "stdout",
     "output_type": "stream",
     "text": [
      "income_1_age [24, 27, 28, 29, 30, 31, 31, 31, 31, 32, 32, 32, 32, 33, 33, 33, 34, 34, 34, 34, 34, 35, 35, 35, 36, 37, 37, 38, 38, 38, 38, 38, 38, 38, 38, 39, 39, 40, 40, 40, 40, 41, 42, 42, 43, 43, 44, 44, 45, 45, 45, 45, 45, 46, 46, 46, 46, 46, 46, 46, 46, 46, 47, 47, 48, 48, 49, 49, 49, 49, 49, 49, 50, 51, 51, 51, 52, 52, 52, 53, 54, 54, 55, 55, 55, 56, 56, 56, 57, 57, 57, 59, 59, 59, 59, 59, 60, 61, 70, 71]\n",
      "income_0_age [17, 17, 18, 18, 18, 18, 19, 19, 19, 20, 20, 20, 20, 21, 21, 21, 21, 21, 22, 23, 23, 23, 24, 24, 24, 26, 26, 27, 27, 28, 28, 28, 28, 30, 30, 31, 31, 31, 32, 32, 32, 33, 33, 33, 33, 34, 35, 35, 35, 36, 36, 36, 36, 36, 36, 36, 37, 38, 38, 38, 39, 40, 41, 42, 42, 42, 42, 43, 43, 43, 44, 44, 44, 45, 45, 45, 47, 47, 48, 48, 48, 49, 49, 49, 50, 50, 50, 52, 52, 54, 55, 56, 58, 58, 59, 64, 65, 69, 73, 76]\n"
     ]
    }
   ],
   "source": [
    "import random\n",
    "dataset = data[(np.abs(stats.zscore(data.age)) < 3)]\n",
    "\n",
    "income_1_age = dataset[dataset.income == 1][\"age\"]\n",
    "income_0_age = dataset[dataset.income == 0][\"age\"]\n",
    "\n",
    "income_1_age =income_1_age.values.tolist()\n",
    "income_1_age = random.sample(income_1_age, 100)\n",
    "\n",
    "income_0_age = income_0_age.values.tolist()\n",
    "income_0_age = random.sample(income_0_age,100)\n",
    "\n",
    "income_1_age.sort()\n",
    "income_0_age.sort()\n",
    "\n",
    "print(\"income_1_age\",income_1_age)\n",
    "print(\"income_0_age\",income_0_age)\n"
   ]
  },
  {
   "cell_type": "code",
   "execution_count": 54,
   "id": "26d7836a",
   "metadata": {},
   "outputs": [
    {
     "name": "stdout",
     "output_type": "stream",
     "text": [
      "t_stats: 4.509408171915442\n",
      "p_value: 1.1120749670033735e-05\n"
     ]
    }
   ],
   "source": [
    "from scipy.stats import ttest_ind\n",
    "\n",
    "t_stats, p_value = ttest_ind(income_1_age, income_0_age, equal_var = True)\n",
    "print(\"t_stats:\",t_stats)\n",
    "print(\"p_value:\",p_value)"
   ]
  },
  {
   "cell_type": "code",
   "execution_count": 55,
   "id": "638d8f57",
   "metadata": {},
   "outputs": [
    {
     "name": "stdout",
     "output_type": "stream",
     "text": [
      "reject H0: There is significant differnce between the mean of two sample \n"
     ]
    }
   ],
   "source": [
    "if p_value > 0.05:\n",
    "    print(\"accept H0: there is no significant difference between the mean of two sample\")\n",
    "else:\n",
    "    print(\"reject H0: There is significant differnce between the mean of two sample \")"
   ]
  },
  {
   "cell_type": "markdown",
   "id": "c5d51d9b",
   "metadata": {},
   "source": [
    "# Conclusion:  in this case H0 rejected means , the age varies with the income group. i.e the age is dependent of the income group."
   ]
  },
  {
   "cell_type": "markdown",
   "id": "e572ae98",
   "metadata": {},
   "source": [
    "# Hours per Week Vs Income"
   ]
  },
  {
   "cell_type": "code",
   "execution_count": 56,
   "id": "fd5a48ce",
   "metadata": {},
   "outputs": [
    {
     "data": {
      "image/png": "[encoded data removed]",
      "text/plain": [
       "<Figure size 720x576 with 1 Axes>"
      ]
     },
     "metadata": {
      "needs_background": "light"
     },
     "output_type": "display_data"
    }
   ],
   "source": [
    "plt.figure(figsize = (10,8))\n",
    "ax = sns.boxplot(x = \"income\", y = \"hours-per-week\", data = data)\n",
    "plt.show()"
   ]
  },
  {
   "cell_type": "code",
   "execution_count": 57,
   "id": "242e0940",
   "metadata": {},
   "outputs": [
    {
     "name": "stdout",
     "output_type": "stream",
     "text": [
      "mean 40.422382375824085\n",
      "std 12.391444024252307\n",
      "income_1_HP: [10, 15, 18, 20, 20, 30, 30, 30, 32, 32, 32, 33, 33, 34, 35, 35, 35, 38, 40, 40, 40, 40, 40, 40, 40, 40, 40, 40, 40, 40, 40, 40, 40, 40, 40, 40, 40, 40, 40, 40, 40, 40, 40, 40, 40, 40, 40, 40, 40, 40, 40, 40, 40, 40, 40, 40, 40, 40, 40, 40, 40, 40, 40, 42, 45, 45, 45, 45, 48, 48, 48, 48, 50, 50, 50, 50, 50, 50, 50, 50, 50, 50, 50, 50, 50, 50, 55, 55, 55, 57, 60, 60, 60, 60, 60, 60, 65, 65, 65, 70]\n",
      "income_0_HP: [4, 6, 6, 8, 10, 10, 10, 12, 15, 15, 15, 20, 20, 20, 20, 25, 25, 25, 28, 30, 30, 30, 32, 35, 35, 35, 37, 37, 38, 40, 40, 40, 40, 40, 40, 40, 40, 40, 40, 40, 40, 40, 40, 40, 40, 40, 40, 40, 40, 40, 40, 40, 40, 40, 40, 40, 40, 40, 40, 40, 40, 40, 40, 40, 40, 40, 40, 40, 40, 40, 40, 40, 40, 40, 40, 40, 40, 43, 44, 45, 45, 45, 47, 48, 48, 50, 50, 50, 50, 50, 50, 53, 55, 55, 60, 60, 60, 70, 70, 70]\n"
     ]
    }
   ],
   "source": [
    "import random\n",
    "\n",
    "mean = data[\"hours-per-week\"].mean()\n",
    "std = data[\"hours-per-week\"].std()\n",
    "\n",
    "print(\"mean\",mean)\n",
    "print(\"std\",std)\n",
    "\n",
    "\n",
    "dataset = data[(np.abs(stats.zscore(data[\"hours-per-week\"]))<3)]\n",
    "dataset.head(30)\n",
    "dataset[\"hours-per-week\"].head(30)\n",
    "\n",
    "income_1_HP = dataset[dataset[\"income\"] == 1][\"hours-per-week\"]\n",
    "income_0_HP = dataset[dataset[\"income\"] == 0][\"hours-per-week\"]\n",
    "\n",
    "income_1_HP = income_1_HP.tolist()\n",
    "income_1_HP= random.sample(income_1_HP, 100)\n",
    "\n",
    "income_0_HP = income_0_HP.tolist()\n",
    "income_0_HP = random.sample(income_0_HP, 100)\n",
    "\n",
    "\n",
    "income_0_HP.sort()\n",
    "income_1_HP.sort()\n",
    "\n",
    "print(\"income_1_HP:\",income_1_HP)\n",
    "print(\"income_0_HP:\",income_0_HP)\n",
    "\n"
   ]
  },
  {
   "cell_type": "code",
   "execution_count": 58,
   "id": "d8fdd8cb",
   "metadata": {},
   "outputs": [
    {
     "name": "stdout",
     "output_type": "stream",
     "text": [
      "t_stats -2.9633531097376897\n",
      "p_value 0.003416138987905662\n"
     ]
    }
   ],
   "source": [
    "from scipy.stats import ttest_ind\n",
    "t_stats, p_value = ttest_ind(income_0_HP, income_1_HP, equal_var = True)\n",
    "print(\"t_stats\",t_stats)\n",
    "print(\"p_value\",p_value)"
   ]
  },
  {
   "cell_type": "code",
   "execution_count": 59,
   "id": "91d71c07",
   "metadata": {},
   "outputs": [
    {
     "name": "stdout",
     "output_type": "stream",
     "text": [
      "Reject H0: There is significant difference between the means of two sample\n"
     ]
    }
   ],
   "source": [
    "if p_value > 0.05:\n",
    "    print(\"Accept H0: There is no significant difference betweent the means of two sample\")\n",
    "else:\n",
    "    print(\"Reject H0: There is significant difference between the means of two sample\")\n"
   ]
  },
  {
   "cell_type": "markdown",
   "id": "fd7c0051",
   "metadata": {},
   "source": [
    "# Conclusion : Since H0 is rejected , we can conclude by saying that, The hours per week varies with the income. i.e income is dependent on hours per week ."
   ]
  },
  {
   "cell_type": "markdown",
   "id": "469f48f6",
   "metadata": {},
   "source": []
  },
  {
   "cell_type": "markdown",
   "id": "4574c41d",
   "metadata": {},
   "source": [
    "# Capital-gain Vs income"
   ]
  },
  {
   "cell_type": "code",
   "execution_count": 60,
   "id": "cd47252c",
   "metadata": {},
   "outputs": [
    {
     "data": {
      "image/png": "[encoded data removed]",
      "text/plain": [
       "<Figure size 720x576 with 1 Axes>"
      ]
     },
     "metadata": {
      "needs_background": "light"
     },
     "output_type": "display_data"
    }
   ],
   "source": [
    "plt.figure(figsize = (10,8))\n",
    "\n",
    "sx = sns.boxplot(x= \"income\", y = \"capital-gain\", data = data)\n",
    "plt.show()"
   ]
  },
  {
   "cell_type": "code",
   "execution_count": 61,
   "id": "514882d8",
   "metadata": {},
   "outputs": [
    {
     "name": "stdout",
     "output_type": "stream",
     "text": [
      "mean 1079.0676262233324\n",
      "std 7452.019057655394\n"
     ]
    }
   ],
   "source": [
    "import random\n",
    "\n",
    "mean = data[\"capital-gain\"].mean()\n",
    "std = data[\"capital-gain\"].std()\n",
    "\n",
    "print(\"mean\",mean)\n",
    "print(\"std\",std)\n",
    "\n",
    "dataset = data[np.abs(stats.zscore(data[\"capital-gain\"]))< 3]\n",
    "\n",
    "income_1_capital_gain = dataset[dataset[\"income\"] == 1][\"capital-gain\"]\n",
    "income_0_capital_gain = dataset[dataset[\"income\"] == 0][\"capital-gain\"]\n",
    "\n",
    "income_1_capital_gain = income_1_capital_gain.values.tolist()\n",
    "income_1_capital_gain = random.sample(income_1_capital_gain, 100)\n",
    "\n",
    "\n",
    "income_0_capital_gain = income_0_capital_gain.values.tolist()\n",
    "income_0_capital_gain = random.sample(income_0_capital_gain, 100)\n",
    "\n"
   ]
  },
  {
   "cell_type": "code",
   "execution_count": 62,
   "id": "225e301c",
   "metadata": {},
   "outputs": [
    {
     "name": "stdout",
     "output_type": "stream",
     "text": [
      "equal_var: False\n",
      "t_stats -2.9214112327176736\n",
      "p_value 0.004171931115201369\n",
      "Reject H0: there is signigficat difference between the mean of two sample\n"
     ]
    }
   ],
   "source": [
    "from scipy.stats import ttest_ind, levene\n",
    "\n",
    "stat,p = levene(income_0_capital_gain, income_1_capital_gain)\n",
    "\n",
    "if p > 0.05:\n",
    "    equal_var = True\n",
    "else:\n",
    "    equal_var = False\n",
    "    \n",
    "print(\"equal_var:\",equal_var)\n",
    "\n",
    "t_stats, p_value = ttest_ind(income_0_capital_gain,income_1_capital_gain, equal_var = equal_var)\n",
    "print(\"t_stats\",t_stats)\n",
    "print(\"p_value\",p_value)\n",
    "\n",
    "if p_value > 0.05:\n",
    "    print(\"Accept H0: there is no signifciant difference between the mean of two sample\")\n",
    "else:\n",
    "    print(\"Reject H0: there is signigficat difference between the mean of two sample\")\n",
    "    "
   ]
  },
  {
   "cell_type": "markdown",
   "id": "d877f7b1",
   "metadata": {},
   "source": [
    "# Conclusion : capital gain varies with the income group . i.e the capital gain is dependent on the income group."
   ]
  },
  {
   "cell_type": "code",
   "execution_count": null,
   "id": "653d73cb",
   "metadata": {},
   "outputs": [],
   "source": []
  },
  {
   "cell_type": "markdown",
   "id": "e521d95d",
   "metadata": {},
   "source": [
    "# Capital loss Vs income"
   ]
  },
  {
   "cell_type": "code",
   "execution_count": 63,
   "id": "b0e8049d",
   "metadata": {},
   "outputs": [
    {
     "data": {
      "image/png": "[encoded data removed]",
      "text/plain": [
       "<Figure size 720x576 with 1 Axes>"
      ]
     },
     "metadata": {
      "needs_background": "light"
     },
     "output_type": "display_data"
    }
   ],
   "source": [
    "plt.figure(figsize = (10,8))\n",
    "ax = sns.boxplot(x = \"income\", y = \"capital-loss\", data = data)\n",
    "plt.show()"
   ]
  },
  {
   "cell_type": "code",
   "execution_count": 64,
   "id": "c6581581",
   "metadata": {},
   "outputs": [
    {
     "data": {
      "text/plain": [
       "array([  0, 653], dtype=int64)"
      ]
     },
     "execution_count": 64,
     "metadata": {},
     "output_type": "execute_result"
    }
   ],
   "source": [
    "import random\n",
    "\n",
    "dataset = data[(np.abs(stats.zscore(data[\"capital-loss\"])) < 3)]\n",
    "\n",
    "income_1_capital_loss = dataset[dataset.income == 1][\"capital-loss\"]\n",
    "income_0_capital_loss = dataset[dataset.income == 0][\"capital-loss\"]\n",
    "\n",
    "income_1_capital_loss.unique()"
   ]
  },
  {
   "cell_type": "code",
   "execution_count": 65,
   "id": "0464de06",
   "metadata": {},
   "outputs": [
    {
     "name": "stdout",
     "output_type": "stream",
     "text": [
      "t_stats -3.5782770894251668\n",
      "p_value 0.00034621720125440654\n"
     ]
    }
   ],
   "source": [
    "from scipy.stats import ttest_ind, levene\n",
    "t_stats, p_value = ttest_ind(income_1_capital_loss, income_0_capital_loss, equal_var = True)\n",
    "print(\"t_stats\",t_stats)\n",
    "print(\"p_value\",p_value)"
   ]
  },
  {
   "cell_type": "code",
   "execution_count": 66,
   "id": "76f1d941",
   "metadata": {},
   "outputs": [
    {
     "name": "stdout",
     "output_type": "stream",
     "text": [
      "equal_var: False\n",
      "t_stats -6.037578822692599\n",
      "p_value 1.5763489318539471e-09\n"
     ]
    }
   ],
   "source": [
    "\n",
    "income_1_capital_loss = income_1_capital_loss.values.tolist()\n",
    "income_0_capital_loss = income_0_capital_loss.values.tolist()\n",
    "\n",
    "\n",
    "stat,p = levene(income_0_capital_loss, income_1_capital_loss)\n",
    "\n",
    "if p > 0.05:\n",
    "    equal_var = True\n",
    "else:\n",
    "    equal_var = False\n",
    "    \n",
    "print(\"equal_var:\",equal_var)\n",
    "\n",
    "from scipy.stats import ttest_ind\n",
    "t_stats, p_value = ttest_ind(income_1_capital_loss, income_0_capital_loss, equal_var = equal_var)\n",
    "print(\"t_stats\",t_stats)\n",
    "print(\"p_value\",p_value)"
   ]
  },
  {
   "cell_type": "code",
   "execution_count": 67,
   "id": "9d850813",
   "metadata": {},
   "outputs": [
    {
     "name": "stdout",
     "output_type": "stream",
     "text": [
      "Reject H0, ther is significant difference between the mean of two sample\n"
     ]
    }
   ],
   "source": [
    "if p_value > 0.05:\n",
    "    print(\"accept H0: there is no significant difference betweent the mean of two sample\")\n",
    "else:\n",
    "    print(\"Reject H0, ther is significant difference between the mean of two sample\")"
   ]
  },
  {
   "cell_type": "markdown",
   "id": "b0209be0",
   "metadata": {},
   "source": [
    "# conclusion:\n",
    " The capital loss varies with the income group. hence capital loss is dependent on the income group."
   ]
  },
  {
   "cell_type": "code",
   "execution_count": 68,
   "id": "9dbc5e8f",
   "metadata": {},
   "outputs": [
    {
     "name": "stdout",
     "output_type": "stream",
     "text": [
      "expected values: [[1.57142857 1.96428571 3.14285714 4.32142857]\n",
      " [2.42857143 3.03571429 4.85714286 6.67857143]]\n",
      "expected_fre [1.57142857 1.96428571 3.14285714 4.32142857 2.42857143 3.03571429\n",
      " 4.85714286 6.67857143]\n",
      "The expected cell frequencies are less than 5 for some cells.\n"
     ]
    }
   ],
   "source": [
    "from scipy.stats import chi2_contingency\n",
    "\n",
    "# Create a contingency table\n",
    "observed = [[2, 2,3,4], [2,3,5,7]]\n",
    "\n",
    "# Perform the chi-square test\n",
    "chi2_stat, p_value, dof, expected = chi2_contingency(observed)\n",
    "\n",
    "# Check if the expected cell frequencies are greater than 5\n",
    "print(\"expected values:\",expected)\n",
    "expected_freq = expected.flatten()\n",
    "\n",
    "print(\"expected_fre\",expected_freq)\n",
    "if all(expected_freq >= 5):\n",
    "    print(\"The expected cell frequencies are greater than or equal to 5 for at least 80% of the cells.\")\n",
    "else:\n",
    "    print(\"The expected cell frequencies are less than 5 for some cells.\")\n"
   ]
  },
  {
   "cell_type": "markdown",
   "id": "d9adcbfe",
   "metadata": {},
   "source": [
    "# Workclass\n",
    "i. Workclass Vs Income"
   ]
  },
  {
   "cell_type": "code",
   "execution_count": 69,
   "id": "806529ac",
   "metadata": {},
   "outputs": [
    {
     "data": {
      "image/png": "[encoded data removed]",
      "text/plain": [
       "<Figure size 720x576 with 1 Axes>"
      ]
     },
     "metadata": {
      "needs_background": "light"
     },
     "output_type": "display_data"
    }
   ],
   "source": [
    "plt.figure(figsize = (10,8))\n",
    "\n",
    "sns.countplot(x = \"workclass\", hue = \"income\", data = data)\n",
    "plt.show()"
   ]
  },
  {
   "cell_type": "code",
   "execution_count": 70,
   "id": "d1283875",
   "metadata": {},
   "outputs": [
    {
     "data": {
      "text/html": [
       "<div>\n",
       "<style scoped>\n",
       "    .dataframe tbody tr th:only-of-type {\n",
       "        vertical-align: middle;\n",
       "    }\n",
       "\n",
       "    .dataframe tbody tr th {\n",
       "        vertical-align: top;\n",
       "    }\n",
       "\n",
       "    .dataframe thead th {\n",
       "        text-align: right;\n",
       "    }\n",
       "</style>\n",
       "<table border=\"1\" class=\"dataframe\">\n",
       "  <thead>\n",
       "    <tr style=\"text-align: right;\">\n",
       "      <th>income</th>\n",
       "      <th>0</th>\n",
       "      <th>1</th>\n",
       "    </tr>\n",
       "    <tr>\n",
       "      <th>workclass</th>\n",
       "      <th></th>\n",
       "      <th></th>\n",
       "    </tr>\n",
       "  </thead>\n",
       "  <tbody>\n",
       "    <tr>\n",
       "      <th>Federal-gov</th>\n",
       "      <td>5</td>\n",
       "      <td>4</td>\n",
       "    </tr>\n",
       "    <tr>\n",
       "      <th>Local-gov</th>\n",
       "      <td>13</td>\n",
       "      <td>6</td>\n",
       "    </tr>\n",
       "    <tr>\n",
       "      <th>Private</th>\n",
       "      <td>137</td>\n",
       "      <td>44</td>\n",
       "    </tr>\n",
       "    <tr>\n",
       "      <th>Self-emp-inc</th>\n",
       "      <td>4</td>\n",
       "      <td>3</td>\n",
       "    </tr>\n",
       "    <tr>\n",
       "      <th>Self-emp-not-inc</th>\n",
       "      <td>13</td>\n",
       "      <td>7</td>\n",
       "    </tr>\n",
       "    <tr>\n",
       "      <th>State-gov</th>\n",
       "      <td>7</td>\n",
       "      <td>1</td>\n",
       "    </tr>\n",
       "  </tbody>\n",
       "</table>\n",
       "</div>"
      ],
      "text/plain": [
       "income              0   1\n",
       "workclass                \n",
       "Federal-gov         5   4\n",
       "Local-gov          13   6\n",
       "Private           137  44\n",
       "Self-emp-inc        4   3\n",
       "Self-emp-not-inc   13   7\n",
       "State-gov           7   1"
      ]
     },
     "execution_count": 70,
     "metadata": {},
     "output_type": "execute_result"
    }
   ],
   "source": [
    "c_t = pd.crosstab(data.workclass.sample(frac = 0.005, replace = True, random_state = 1), data.income.sample(frac = 0.005, replace = True, random_state = 1))\n",
    "c_t"
   ]
  },
  {
   "cell_type": "code",
   "execution_count": 71,
   "id": "f4185537",
   "metadata": {},
   "outputs": [
    {
     "name": "stdout",
     "output_type": "stream",
     "text": [
      "dof 5\n",
      "p_value 0.45670813867515037\n",
      "expected [[  6.60245902   2.39754098]\n",
      " [ 13.93852459   5.06147541]\n",
      " [132.78278689  48.21721311]\n",
      " [  5.1352459    1.8647541 ]\n",
      " [ 14.67213115   5.32786885]\n",
      " [  5.86885246   2.13114754]]\n",
      "chi2_stats 4.67582865491066\n",
      "expected_fre [  6.60245902   2.39754098  13.93852459   5.06147541 132.78278689\n",
      "  48.21721311   5.1352459    1.8647541   14.67213115   5.32786885\n",
      "   5.86885246   2.13114754]\n",
      "the expected cell frequencies are less than 5 for some cells\n"
     ]
    }
   ],
   "source": [
    "from scipy.stats import chi2_contingency\n",
    "from scipy.stats import chi2\n",
    "\n",
    "chi2_stats, p_value, dof, expected =  chi2_contingency(c_t)\n",
    "print(\"dof\",dof)\n",
    "print(\"p_value\",p_value)\n",
    "print(\"expected\",expected)\n",
    "print(\"chi2_stats\",chi2_stats)\n",
    "\n",
    "expected_fre = expected.flatten()\n",
    "print(\"expected_fre\",expected_fre)\n",
    "\n",
    "if all(expected_freq >= 5):\n",
    "    print(\"The expected cell frequencies are greater than or equal to 5 ofr atlease 80 % of the cells\")\n",
    "else:\n",
    "    print(\"the expected cell frequencies are less than 5 for some cells\")"
   ]
  },
  {
   "cell_type": "markdown",
   "id": "e977c1f9",
   "metadata": {},
   "source": [
    "# Since the expected cell frquencies are less than 5 for some cells its good idea to use alternative hypothesis instead of the chi2 test. but anyways for now we wil use the chi2 test for hypothesis."
   ]
  },
  {
   "cell_type": "code",
   "execution_count": 72,
   "id": "fd811d2e",
   "metadata": {},
   "outputs": [
    {
     "name": "stdout",
     "output_type": "stream",
     "text": [
      "accpet H0: there is no significant difference between the means of samples\n"
     ]
    }
   ],
   "source": [
    "if p_value > 0.05:\n",
    "    print(\"accpet H0: there is no significant difference between the means of samples\")\n",
    "else:\n",
    "    print(\"Reject H0: there is significant difference between the means of samples\")"
   ]
  },
  {
   "cell_type": "markdown",
   "id": "038c6a45",
   "metadata": {},
   "source": [
    "#conclusion: the number of people earning <=50K and >50K does not dependent on the work class"
   ]
  },
  {
   "cell_type": "markdown",
   "id": "5c2edf5a",
   "metadata": {},
   "source": [
    "# Education \n",
    "i. realtionship with income"
   ]
  },
  {
   "cell_type": "code",
   "execution_count": 73,
   "id": "3cc2eeb6",
   "metadata": {},
   "outputs": [
    {
     "data": {
      "image/png": "[encoded data removed]",
      "text/plain": [
       "<Figure size 1440x720 with 1 Axes>"
      ]
     },
     "metadata": {
      "needs_background": "light"
     },
     "output_type": "display_data"
    }
   ],
   "source": [
    "plt.figure(figsize = (20,10))\n",
    "ax = sns.countplot(x = \"education\", hue = \"income\", data = data)\n",
    "plt.show()"
   ]
  },
  {
   "cell_type": "code",
   "execution_count": 74,
   "id": "a7554cf8",
   "metadata": {},
   "outputs": [
    {
     "data": {
      "text/html": [
       "<div>\n",
       "<style scoped>\n",
       "    .dataframe tbody tr th:only-of-type {\n",
       "        vertical-align: middle;\n",
       "    }\n",
       "\n",
       "    .dataframe tbody tr th {\n",
       "        vertical-align: top;\n",
       "    }\n",
       "\n",
       "    .dataframe thead th {\n",
       "        text-align: right;\n",
       "    }\n",
       "</style>\n",
       "<table border=\"1\" class=\"dataframe\">\n",
       "  <thead>\n",
       "    <tr style=\"text-align: right;\">\n",
       "      <th>income</th>\n",
       "      <th>0</th>\n",
       "      <th>1</th>\n",
       "    </tr>\n",
       "    <tr>\n",
       "      <th>education</th>\n",
       "      <th></th>\n",
       "      <th></th>\n",
       "    </tr>\n",
       "  </thead>\n",
       "  <tbody>\n",
       "    <tr>\n",
       "      <th>10th</th>\n",
       "      <td>6</td>\n",
       "      <td>1</td>\n",
       "    </tr>\n",
       "    <tr>\n",
       "      <th>11th</th>\n",
       "      <td>16</td>\n",
       "      <td>0</td>\n",
       "    </tr>\n",
       "    <tr>\n",
       "      <th>12th</th>\n",
       "      <td>2</td>\n",
       "      <td>1</td>\n",
       "    </tr>\n",
       "    <tr>\n",
       "      <th>7th-8th</th>\n",
       "      <td>3</td>\n",
       "      <td>0</td>\n",
       "    </tr>\n",
       "    <tr>\n",
       "      <th>9th</th>\n",
       "      <td>1</td>\n",
       "      <td>0</td>\n",
       "    </tr>\n",
       "    <tr>\n",
       "      <th>Assoc-acdm</th>\n",
       "      <td>9</td>\n",
       "      <td>1</td>\n",
       "    </tr>\n",
       "    <tr>\n",
       "      <th>Assoc-voc</th>\n",
       "      <td>9</td>\n",
       "      <td>7</td>\n",
       "    </tr>\n",
       "    <tr>\n",
       "      <th>Bachelors</th>\n",
       "      <td>19</td>\n",
       "      <td>20</td>\n",
       "    </tr>\n",
       "    <tr>\n",
       "      <th>Doctorate</th>\n",
       "      <td>1</td>\n",
       "      <td>3</td>\n",
       "    </tr>\n",
       "    <tr>\n",
       "      <th>HS-grad</th>\n",
       "      <td>66</td>\n",
       "      <td>13</td>\n",
       "    </tr>\n",
       "    <tr>\n",
       "      <th>Masters</th>\n",
       "      <td>10</td>\n",
       "      <td>8</td>\n",
       "    </tr>\n",
       "    <tr>\n",
       "      <th>Prof-school</th>\n",
       "      <td>1</td>\n",
       "      <td>2</td>\n",
       "    </tr>\n",
       "    <tr>\n",
       "      <th>Some-college</th>\n",
       "      <td>36</td>\n",
       "      <td>9</td>\n",
       "    </tr>\n",
       "  </tbody>\n",
       "</table>\n",
       "</div>"
      ],
      "text/plain": [
       "income         0   1\n",
       "education           \n",
       "10th           6   1\n",
       "11th          16   0\n",
       "12th           2   1\n",
       "7th-8th        3   0\n",
       "9th            1   0\n",
       "Assoc-acdm     9   1\n",
       "Assoc-voc      9   7\n",
       "Bachelors     19  20\n",
       "Doctorate      1   3\n",
       "HS-grad       66  13\n",
       "Masters       10   8\n",
       "Prof-school    1   2\n",
       "Some-college  36   9"
      ]
     },
     "execution_count": 74,
     "metadata": {},
     "output_type": "execute_result"
    }
   ],
   "source": [
    "c_t = pd.crosstab(data.education.sample(frac = 0.005, replace = True, random_state = 1), data.income.sample(frac = 0.005, replace = True, random_state = 1))\n",
    "c_t"
   ]
  },
  {
   "cell_type": "code",
   "execution_count": 75,
   "id": "eeba12ae",
   "metadata": {},
   "outputs": [
    {
     "name": "stdout",
     "output_type": "stream",
     "text": [
      "dof 12\n",
      "chi2_stats 39.18403342413548\n",
      "p_value 9.813259343078112e-05\n",
      "expected [[ 5.1352459   1.8647541 ]\n",
      " [11.73770492  4.26229508]\n",
      " [ 2.20081967  0.79918033]\n",
      " [ 2.20081967  0.79918033]\n",
      " [ 0.73360656  0.26639344]\n",
      " [ 7.33606557  2.66393443]\n",
      " [11.73770492  4.26229508]\n",
      " [28.61065574 10.38934426]\n",
      " [ 2.93442623  1.06557377]\n",
      " [57.95491803 21.04508197]\n",
      " [13.20491803  4.79508197]\n",
      " [ 2.20081967  0.79918033]\n",
      " [33.01229508 11.98770492]]\n"
     ]
    }
   ],
   "source": [
    "from scipy.stats import chi2_contingency\n",
    "from scipy.stats import chi2\n",
    "\n",
    "chi2_stats, p_value, dof, expected = chi2_contingency(c_t)\n",
    "\n",
    "print(\"dof\",dof)\n",
    "print(\"chi2_stats\",chi2_stats)\n",
    "print(\"p_value\",p_value)\n",
    "print(\"expected\",expected)"
   ]
  },
  {
   "cell_type": "code",
   "execution_count": 76,
   "id": "5a5c32c9",
   "metadata": {},
   "outputs": [
    {
     "name": "stdout",
     "output_type": "stream",
     "text": [
      "Reject H0: ther is significant difference between the mean score of the samples\n"
     ]
    }
   ],
   "source": [
    "if p > 0.005:\n",
    "    print(\"Accecpt H0: there is no significant difference between mean of the samples\")\n",
    "else:\n",
    "    print(\"Reject H0: ther is significant difference between the mean score of the samples\")\n",
    "    "
   ]
  },
  {
   "cell_type": "markdown",
   "id": "98193e0f",
   "metadata": {},
   "source": [
    "# Concluison: H0 rejected, hence we can conlcude by saying that the number of people earning <=50K and >50K is dependent on the Education "
   ]
  },
  {
   "cell_type": "markdown",
   "id": "e29ea818",
   "metadata": {},
   "source": [
    "# Marital-status\n",
    "i. relationship with income"
   ]
  },
  {
   "cell_type": "code",
   "execution_count": 77,
   "id": "d1a5b1be",
   "metadata": {},
   "outputs": [
    {
     "data": {
      "image/png": "[encoded data removed]",
      "text/plain": [
       "<Figure size 1440x720 with 1 Axes>"
      ]
     },
     "metadata": {
      "needs_background": "light"
     },
     "output_type": "display_data"
    }
   ],
   "source": [
    "plt.figure(figsize = (20,10))\n",
    "ax = sns.countplot(x = \"marital-status\", hue = \"income\", data = data)\n",
    "plt.show()\n"
   ]
  },
  {
   "cell_type": "code",
   "execution_count": 78,
   "id": "7bc2c6d6",
   "metadata": {},
   "outputs": [
    {
     "data": {
      "text/html": [
       "<div>\n",
       "<style scoped>\n",
       "    .dataframe tbody tr th:only-of-type {\n",
       "        vertical-align: middle;\n",
       "    }\n",
       "\n",
       "    .dataframe tbody tr th {\n",
       "        vertical-align: top;\n",
       "    }\n",
       "\n",
       "    .dataframe thead th {\n",
       "        text-align: right;\n",
       "    }\n",
       "</style>\n",
       "<table border=\"1\" class=\"dataframe\">\n",
       "  <thead>\n",
       "    <tr style=\"text-align: right;\">\n",
       "      <th>income</th>\n",
       "      <th>0</th>\n",
       "      <th>1</th>\n",
       "    </tr>\n",
       "    <tr>\n",
       "      <th>marital-status</th>\n",
       "      <th></th>\n",
       "      <th></th>\n",
       "    </tr>\n",
       "  </thead>\n",
       "  <tbody>\n",
       "    <tr>\n",
       "      <th>Divorced</th>\n",
       "      <td>17</td>\n",
       "      <td>2</td>\n",
       "    </tr>\n",
       "    <tr>\n",
       "      <th>Married-civ-spouse</th>\n",
       "      <td>52</td>\n",
       "      <td>45</td>\n",
       "    </tr>\n",
       "    <tr>\n",
       "      <th>Never-married</th>\n",
       "      <td>60</td>\n",
       "      <td>7</td>\n",
       "    </tr>\n",
       "    <tr>\n",
       "      <th>Separated</th>\n",
       "      <td>3</td>\n",
       "      <td>1</td>\n",
       "    </tr>\n",
       "    <tr>\n",
       "      <th>Widowed</th>\n",
       "      <td>7</td>\n",
       "      <td>1</td>\n",
       "    </tr>\n",
       "  </tbody>\n",
       "</table>\n",
       "</div>"
      ],
      "text/plain": [
       "income               0   1\n",
       "marital-status            \n",
       "Divorced            17   2\n",
       "Married-civ-spouse  52  45\n",
       "Never-married       60   7\n",
       "Separated            3   1\n",
       "Widowed              7   1"
      ]
     },
     "execution_count": 78,
     "metadata": {},
     "output_type": "execute_result"
    }
   ],
   "source": [
    "c_t = pd.crosstab(data[\"marital-status\"].sample(frac = 0.005, replace = True,random_state = 1),data.income.sample(frac = 0.004, replace = True, random_state = 1))\n",
    "c_t"
   ]
  },
  {
   "cell_type": "code",
   "execution_count": 79,
   "id": "5cc069f6",
   "metadata": {},
   "outputs": [
    {
     "name": "stdout",
     "output_type": "stream",
     "text": [
      "chi2_stats: 29.852883196912064\n",
      "p: 5.243817067319537e-06\n",
      "dof: 4\n",
      "expected: [[13.54358974  5.45641026]\n",
      " [69.14358974 27.85641026]\n",
      " [47.75897436 19.24102564]\n",
      " [ 2.85128205  1.14871795]\n",
      " [ 5.7025641   2.2974359 ]]\n",
      "H0 rejected: income is depdendent on the marital status\n"
     ]
    }
   ],
   "source": [
    "from scipy.stats import chi2_contingency\n",
    "from scipy.stats import chi2\n",
    "\n",
    "chi2_stats, p, dof, expected = chi2_contingency(c_t)\n",
    "print(\"chi2_stats:\",chi2_stats)\n",
    "print(\"p:\",p)\n",
    "print(\"dof:\",dof)\n",
    "print(\"expected:\",expected)\n",
    "\n",
    "if p > 0.05:\n",
    "    print(\"H0 aaccpected: income is not dependent on the marital status\")\n",
    "else:\n",
    "    print(\"H0 rejected: income is depdendent on the marital status\")"
   ]
  },
  {
   "cell_type": "markdown",
   "id": "6d515399",
   "metadata": {},
   "source": [
    "# Occoupation\n",
    "i.plot(occupation with income)"
   ]
  },
  {
   "cell_type": "code",
   "execution_count": 80,
   "id": "fd534454",
   "metadata": {},
   "outputs": [
    {
     "data": {
      "image/png": "[encoded data removed]",
      "text/plain": [
       "<Figure size 1440x720 with 1 Axes>"
      ]
     },
     "metadata": {
      "needs_background": "light"
     },
     "output_type": "display_data"
    }
   ],
   "source": [
    "plt.figure(figsize = (20,10))\n",
    "ax = sns.countplot(x = \"occupation\", hue= \"income\", data = data)"
   ]
  },
  {
   "cell_type": "code",
   "execution_count": 81,
   "id": "09bc1eb0",
   "metadata": {},
   "outputs": [
    {
     "data": {
      "text/html": [
       "<div>\n",
       "<style scoped>\n",
       "    .dataframe tbody tr th:only-of-type {\n",
       "        vertical-align: middle;\n",
       "    }\n",
       "\n",
       "    .dataframe tbody tr th {\n",
       "        vertical-align: top;\n",
       "    }\n",
       "\n",
       "    .dataframe thead th {\n",
       "        text-align: right;\n",
       "    }\n",
       "</style>\n",
       "<table border=\"1\" class=\"dataframe\">\n",
       "  <thead>\n",
       "    <tr style=\"text-align: right;\">\n",
       "      <th>income</th>\n",
       "      <th>0</th>\n",
       "      <th>1</th>\n",
       "    </tr>\n",
       "    <tr>\n",
       "      <th>occupation</th>\n",
       "      <th></th>\n",
       "      <th></th>\n",
       "    </tr>\n",
       "  </thead>\n",
       "  <tbody>\n",
       "    <tr>\n",
       "      <th>Adm-clerical</th>\n",
       "      <td>17</td>\n",
       "      <td>6</td>\n",
       "    </tr>\n",
       "    <tr>\n",
       "      <th>Craft-repair</th>\n",
       "      <td>18</td>\n",
       "      <td>5</td>\n",
       "    </tr>\n",
       "    <tr>\n",
       "      <th>Exec-managerial</th>\n",
       "      <td>12</td>\n",
       "      <td>14</td>\n",
       "    </tr>\n",
       "    <tr>\n",
       "      <th>Farming-fishing</th>\n",
       "      <td>5</td>\n",
       "      <td>1</td>\n",
       "    </tr>\n",
       "    <tr>\n",
       "      <th>Handlers-cleaners</th>\n",
       "      <td>9</td>\n",
       "      <td>0</td>\n",
       "    </tr>\n",
       "    <tr>\n",
       "      <th>Machine-op-inspct</th>\n",
       "      <td>11</td>\n",
       "      <td>1</td>\n",
       "    </tr>\n",
       "    <tr>\n",
       "      <th>Other-service</th>\n",
       "      <td>14</td>\n",
       "      <td>0</td>\n",
       "    </tr>\n",
       "    <tr>\n",
       "      <th>Prof-specialty</th>\n",
       "      <td>22</td>\n",
       "      <td>16</td>\n",
       "    </tr>\n",
       "    <tr>\n",
       "      <th>Protective-serv</th>\n",
       "      <td>4</td>\n",
       "      <td>1</td>\n",
       "    </tr>\n",
       "    <tr>\n",
       "      <th>Sales</th>\n",
       "      <td>16</td>\n",
       "      <td>7</td>\n",
       "    </tr>\n",
       "    <tr>\n",
       "      <th>Tech-support</th>\n",
       "      <td>4</td>\n",
       "      <td>3</td>\n",
       "    </tr>\n",
       "    <tr>\n",
       "      <th>Transport-moving</th>\n",
       "      <td>7</td>\n",
       "      <td>2</td>\n",
       "    </tr>\n",
       "  </tbody>\n",
       "</table>\n",
       "</div>"
      ],
      "text/plain": [
       "income              0   1\n",
       "occupation               \n",
       "Adm-clerical       17   6\n",
       "Craft-repair       18   5\n",
       "Exec-managerial    12  14\n",
       "Farming-fishing     5   1\n",
       "Handlers-cleaners   9   0\n",
       "Machine-op-inspct  11   1\n",
       "Other-service      14   0\n",
       "Prof-specialty     22  16\n",
       "Protective-serv     4   1\n",
       "Sales              16   7\n",
       "Tech-support        4   3\n",
       "Transport-moving    7   2"
      ]
     },
     "execution_count": 81,
     "metadata": {},
     "output_type": "execute_result"
    }
   ],
   "source": [
    "c_t = pd.crosstab(data.occupation.sample(frac = 0.004, replace = True, random_state = 1),data.income.sample(frac = 0.004, replace = True, random_state = 1))\n",
    "c_t"
   ]
  },
  {
   "cell_type": "code",
   "execution_count": 82,
   "id": "57dd8fbb",
   "metadata": {},
   "outputs": [
    {
     "name": "stdout",
     "output_type": "stream",
     "text": [
      "chi2_stats: 25.187262643768143\n",
      "p_value: 0.008558194053873728\n",
      "dof: 11\n",
      "expected: [[16.39487179  6.60512821]\n",
      " [16.39487179  6.60512821]\n",
      " [18.53333333  7.46666667]\n",
      " [ 4.27692308  1.72307692]\n",
      " [ 6.41538462  2.58461538]\n",
      " [ 8.55384615  3.44615385]\n",
      " [ 9.97948718  4.02051282]\n",
      " [27.08717949 10.91282051]\n",
      " [ 3.56410256  1.43589744]\n",
      " [16.39487179  6.60512821]\n",
      " [ 4.98974359  2.01025641]\n",
      " [ 6.41538462  2.58461538]]\n"
     ]
    }
   ],
   "source": [
    "from scipy.stats import chi2_contingency\n",
    "from scipy.stats import chi2\n",
    "\n",
    "chi2_stats, p, dof, expected = chi2_contingency(c_t)\n",
    "\n",
    "print(\"chi2_stats:\",chi2_stats)\n",
    "print(\"p_value:\",p)\n",
    "print(\"dof:\",dof)\n",
    "print(\"expected:\",expected)"
   ]
  },
  {
   "cell_type": "code",
   "execution_count": 83,
   "id": "be9f6b01",
   "metadata": {},
   "outputs": [
    {
     "name": "stdout",
     "output_type": "stream",
     "text": [
      "H0 rejected: income is dependent on the occupation\n"
     ]
    }
   ],
   "source": [
    "if p > 0.05:\n",
    "    print(\"H0 accepted: income is not dependent on the occupation\")\n",
    "else:\n",
    "    print(\"H0 rejected: income is dependent on the occupation\")"
   ]
  },
  {
   "cell_type": "markdown",
   "id": "57690684",
   "metadata": {},
   "source": [
    "# Relationship\n",
    "i. plot(relationship with income)"
   ]
  },
  {
   "cell_type": "code",
   "execution_count": 84,
   "id": "f324b96d",
   "metadata": {},
   "outputs": [
    {
     "data": {
      "image/png": "[encoded data removed]",
      "text/plain": [
       "<Figure size 1440x720 with 1 Axes>"
      ]
     },
     "metadata": {
      "needs_background": "light"
     },
     "output_type": "display_data"
    }
   ],
   "source": [
    "plt.figure(figsize = (20,10))\n",
    "ax = sns.countplot(x = \"relationship\", hue = \"income\", data = data)"
   ]
  },
  {
   "cell_type": "code",
   "execution_count": 85,
   "id": "c1467cdf",
   "metadata": {},
   "outputs": [
    {
     "data": {
      "text/html": [
       "<div>\n",
       "<style scoped>\n",
       "    .dataframe tbody tr th:only-of-type {\n",
       "        vertical-align: middle;\n",
       "    }\n",
       "\n",
       "    .dataframe tbody tr th {\n",
       "        vertical-align: top;\n",
       "    }\n",
       "\n",
       "    .dataframe thead th {\n",
       "        text-align: right;\n",
       "    }\n",
       "</style>\n",
       "<table border=\"1\" class=\"dataframe\">\n",
       "  <thead>\n",
       "    <tr style=\"text-align: right;\">\n",
       "      <th>income</th>\n",
       "      <th>0</th>\n",
       "      <th>1</th>\n",
       "    </tr>\n",
       "    <tr>\n",
       "      <th>relationship</th>\n",
       "      <th></th>\n",
       "      <th></th>\n",
       "    </tr>\n",
       "  </thead>\n",
       "  <tbody>\n",
       "    <tr>\n",
       "      <th>Husband</th>\n",
       "      <td>47</td>\n",
       "      <td>39</td>\n",
       "    </tr>\n",
       "    <tr>\n",
       "      <th>Not-in-family</th>\n",
       "      <td>41</td>\n",
       "      <td>10</td>\n",
       "    </tr>\n",
       "    <tr>\n",
       "      <th>Other-relative</th>\n",
       "      <td>5</td>\n",
       "      <td>0</td>\n",
       "    </tr>\n",
       "    <tr>\n",
       "      <th>Own-child</th>\n",
       "      <td>26</td>\n",
       "      <td>0</td>\n",
       "    </tr>\n",
       "    <tr>\n",
       "      <th>Unmarried</th>\n",
       "      <td>16</td>\n",
       "      <td>1</td>\n",
       "    </tr>\n",
       "    <tr>\n",
       "      <th>Wife</th>\n",
       "      <td>4</td>\n",
       "      <td>6</td>\n",
       "    </tr>\n",
       "  </tbody>\n",
       "</table>\n",
       "</div>"
      ],
      "text/plain": [
       "income           0   1\n",
       "relationship          \n",
       "Husband         47  39\n",
       "Not-in-family   41  10\n",
       "Other-relative   5   0\n",
       "Own-child       26   0\n",
       "Unmarried       16   1\n",
       "Wife             4   6"
      ]
     },
     "execution_count": 85,
     "metadata": {},
     "output_type": "execute_result"
    }
   ],
   "source": [
    "c_t = pd.crosstab(data.relationship.sample(frac = 0.004, replace = True, random_state = 1),data.income.sample(frac = 0.004, replace = True, random_state = 1))\n",
    "c_t"
   ]
  },
  {
   "cell_type": "code",
   "execution_count": 86,
   "id": "3cf440f5",
   "metadata": {},
   "outputs": [
    {
     "name": "stdout",
     "output_type": "stream",
     "text": [
      "chi2_stats: 35.2874494912571\n",
      "p_value: 1.318411926429466e-06\n",
      "dof: 5\n",
      "expected: [[61.3025641  24.6974359 ]\n",
      " [36.35384615 14.64615385]\n",
      " [ 3.56410256  1.43589744]\n",
      " [18.53333333  7.46666667]\n",
      " [12.11794872  4.88205128]\n",
      " [ 7.12820513  2.87179487]]\n"
     ]
    }
   ],
   "source": [
    "from scipy.stats import chi2_contingency\n",
    "from scipy.stats import chi2\n",
    "\n",
    "chi2_stats, p, dof, expected = chi2_contingency(c_t)\n",
    "print(\"chi2_stats:\",chi2_stats)\n",
    "print(\"p_value:\",p)\n",
    "print(\"dof:\",dof)\n",
    "print(\"expected:\",expected)"
   ]
  },
  {
   "cell_type": "code",
   "execution_count": 87,
   "id": "bf7858f4",
   "metadata": {},
   "outputs": [
    {
     "name": "stdout",
     "output_type": "stream",
     "text": [
      "rejected H0: income difference is dependent on the relationship\n"
     ]
    }
   ],
   "source": [
    "if p > 0.05:\n",
    "    print(\"accepted H0: income difference is not dependent on the relationship\")\n",
    "else:\n",
    "    print(\"rejected H0: income difference is dependent on the relationship\")"
   ]
  },
  {
   "cell_type": "markdown",
   "id": "3b330d47",
   "metadata": {},
   "source": [
    "# Race\n",
    "i. plot relationship with income"
   ]
  },
  {
   "cell_type": "code",
   "execution_count": 88,
   "id": "32cf06d0",
   "metadata": {},
   "outputs": [
    {
     "data": {
      "image/png": "[encoded data removed]",
      "text/plain": [
       "<Figure size 1440x720 with 1 Axes>"
      ]
     },
     "metadata": {
      "needs_background": "light"
     },
     "output_type": "display_data"
    }
   ],
   "source": [
    "plt.figure(figsize = (20,10))\n",
    "ax = sns.countplot(x = \"race\", hue = \"income\", data = data)\n",
    "plt.show()"
   ]
  },
  {
   "cell_type": "code",
   "execution_count": 89,
   "id": "0f34d0e2",
   "metadata": {},
   "outputs": [
    {
     "data": {
      "text/html": [
       "<div>\n",
       "<style scoped>\n",
       "    .dataframe tbody tr th:only-of-type {\n",
       "        vertical-align: middle;\n",
       "    }\n",
       "\n",
       "    .dataframe tbody tr th {\n",
       "        vertical-align: top;\n",
       "    }\n",
       "\n",
       "    .dataframe thead th {\n",
       "        text-align: right;\n",
       "    }\n",
       "</style>\n",
       "<table border=\"1\" class=\"dataframe\">\n",
       "  <thead>\n",
       "    <tr style=\"text-align: right;\">\n",
       "      <th>income</th>\n",
       "      <th>0</th>\n",
       "      <th>1</th>\n",
       "    </tr>\n",
       "    <tr>\n",
       "      <th>race</th>\n",
       "      <th></th>\n",
       "      <th></th>\n",
       "    </tr>\n",
       "  </thead>\n",
       "  <tbody>\n",
       "    <tr>\n",
       "      <th>Amer-Indian-Eskimo</th>\n",
       "      <td>2</td>\n",
       "      <td>1</td>\n",
       "    </tr>\n",
       "    <tr>\n",
       "      <th>Asian-Pac-Islander</th>\n",
       "      <td>5</td>\n",
       "      <td>0</td>\n",
       "    </tr>\n",
       "    <tr>\n",
       "      <th>Black</th>\n",
       "      <td>9</td>\n",
       "      <td>1</td>\n",
       "    </tr>\n",
       "    <tr>\n",
       "      <th>Other</th>\n",
       "      <td>1</td>\n",
       "      <td>0</td>\n",
       "    </tr>\n",
       "    <tr>\n",
       "      <th>White</th>\n",
       "      <td>122</td>\n",
       "      <td>54</td>\n",
       "    </tr>\n",
       "  </tbody>\n",
       "</table>\n",
       "</div>"
      ],
      "text/plain": [
       "income                0   1\n",
       "race                       \n",
       "Amer-Indian-Eskimo    2   1\n",
       "Asian-Pac-Islander    5   0\n",
       "Black                 9   1\n",
       "Other                 1   0\n",
       "White               122  54"
      ]
     },
     "execution_count": 89,
     "metadata": {},
     "output_type": "execute_result"
    }
   ],
   "source": [
    "c_t = pd.crosstab(data.race.sample(frac = 0.004, replace = True, random_state = 1), data.income.sample(frac = 0.004, replace = True, random_state = 1))\n",
    "c_t"
   ]
  },
  {
   "cell_type": "code",
   "execution_count": 90,
   "id": "cbb8ba2f",
   "metadata": {},
   "outputs": [
    {
     "name": "stdout",
     "output_type": "stream",
     "text": [
      "Chi2_stats: 4.491599901896665\n",
      "p: 0.3435446765086313\n",
      "dof: 4\n",
      "expected [[  2.13846154   0.86153846]\n",
      " [  3.56410256   1.43589744]\n",
      " [  7.12820513   2.87179487]\n",
      " [  0.71282051   0.28717949]\n",
      " [125.45641026  50.54358974]]\n"
     ]
    }
   ],
   "source": [
    "from scipy.stats import chi2_contingency\n",
    "from scipy.stats import chi2\n",
    "\n",
    "chi2_stats, p, dof, expected = chi2_contingency(c_t)\n",
    "print(\"Chi2_stats:\",chi2_stats)\n",
    "print(\"p:\",p)\n",
    "print(\"dof:\",dof)\n",
    "print(\"expected\",expected)\n",
    "\n"
   ]
  },
  {
   "cell_type": "code",
   "execution_count": 91,
   "id": "3ba9acb0",
   "metadata": {},
   "outputs": [
    {
     "name": "stdout",
     "output_type": "stream",
     "text": [
      "H0 Accepted: income difference is not dependent on the Race\n"
     ]
    }
   ],
   "source": [
    "if p > 0.05:\n",
    "    print(\"H0 Accepted: income difference is not dependent on the Race\")\n",
    "else:\n",
    "    print(\"H0 Rejected: income difference is dependent on the Race\")\n",
    "    "
   ]
  },
  {
   "cell_type": "code",
   "execution_count": 92,
   "id": "51b4cec6",
   "metadata": {},
   "outputs": [
    {
     "data": {
      "image/png": "[encoded data removed]",
      "text/plain": [
       "<Figure size 1440x720 with 1 Axes>"
      ]
     },
     "metadata": {
      "needs_background": "light"
     },
     "output_type": "display_data"
    }
   ],
   "source": [
    "plt.figure(figsize = (20,10))\n",
    "ax = sns.countplot(x = \"gender\", hue = \"income\", data = data)\n",
    "plt.show()"
   ]
  },
  {
   "cell_type": "code",
   "execution_count": 93,
   "id": "6b7c4124",
   "metadata": {},
   "outputs": [
    {
     "data": {
      "text/html": [
       "<div>\n",
       "<style scoped>\n",
       "    .dataframe tbody tr th:only-of-type {\n",
       "        vertical-align: middle;\n",
       "    }\n",
       "\n",
       "    .dataframe tbody tr th {\n",
       "        vertical-align: top;\n",
       "    }\n",
       "\n",
       "    .dataframe thead th {\n",
       "        text-align: right;\n",
       "    }\n",
       "</style>\n",
       "<table border=\"1\" class=\"dataframe\">\n",
       "  <thead>\n",
       "    <tr style=\"text-align: right;\">\n",
       "      <th>income</th>\n",
       "      <th>0</th>\n",
       "      <th>1</th>\n",
       "    </tr>\n",
       "    <tr>\n",
       "      <th>gender</th>\n",
       "      <th></th>\n",
       "      <th></th>\n",
       "    </tr>\n",
       "  </thead>\n",
       "  <tbody>\n",
       "    <tr>\n",
       "      <th>Female</th>\n",
       "      <td>47</td>\n",
       "      <td>10</td>\n",
       "    </tr>\n",
       "    <tr>\n",
       "      <th>Male</th>\n",
       "      <td>92</td>\n",
       "      <td>46</td>\n",
       "    </tr>\n",
       "  </tbody>\n",
       "</table>\n",
       "</div>"
      ],
      "text/plain": [
       "income   0   1\n",
       "gender        \n",
       "Female  47  10\n",
       "Male    92  46"
      ]
     },
     "execution_count": 93,
     "metadata": {},
     "output_type": "execute_result"
    }
   ],
   "source": [
    "c_t = pd.crosstab(data.gender.sample(frac = 0.004, replace = True, random_state = 1), data.income.sample(frac = 0.004, replace = True, random_state = 1))\n",
    "c_t"
   ]
  },
  {
   "cell_type": "code",
   "execution_count": 94,
   "id": "864ebc08",
   "metadata": {},
   "outputs": [
    {
     "name": "stdout",
     "output_type": "stream",
     "text": [
      "chi2_stats: 4.171665099270696\n",
      "p: 0.041105383583817524\n",
      "dof 1\n",
      "expected [[40.63076923 16.36923077]\n",
      " [98.36923077 39.63076923]]\n"
     ]
    }
   ],
   "source": [
    "from scipy.stats import chi2_contingency\n",
    "from scipy.stats import chi2\n",
    "\n",
    "chi2_stats, p, dof, expected = chi2_contingency(c_t)\n",
    "\n",
    "print(\"chi2_stats:\",chi2_stats)\n",
    "print(\"p:\",p)\n",
    "print(\"dof\",dof)\n",
    "print(\"expected\",expected)\n"
   ]
  },
  {
   "cell_type": "code",
   "execution_count": 95,
   "id": "bf2585d6",
   "metadata": {},
   "outputs": [
    {
     "name": "stdout",
     "output_type": "stream",
     "text": [
      "rejected H0: income difference is dependent on the Gender\n"
     ]
    }
   ],
   "source": [
    "if p > 0.05:\n",
    "    print(\"accpeted H0: income difference is not dependent on the Gender\")\n",
    "else:\n",
    "    print(\"rejected H0: income difference is dependent on the Gender\")"
   ]
  },
  {
   "cell_type": "markdown",
   "id": "9aefa57c",
   "metadata": {},
   "source": [
    "# Conclusion : We can conclude by saying that with 95 % confidence we can say that the differnece in income is dependent on the Gender"
   ]
  },
  {
   "cell_type": "markdown",
   "id": "8f11bd6f",
   "metadata": {},
   "source": [
    "# Native - Country\n",
    "i. plot relationship with income"
   ]
  },
  {
   "cell_type": "code",
   "execution_count": 96,
   "id": "96339f2d",
   "metadata": {},
   "outputs": [
    {
     "data": {
      "image/png": "[encoded data removed]",
      "text/plain": [
       "<Figure size 3600x1800 with 1 Axes>"
      ]
     },
     "metadata": {
      "needs_background": "light"
     },
     "output_type": "display_data"
    }
   ],
   "source": [
    "plt.figure(figsize = (50,25))\n",
    "ax = sns.countplot(x = \"native-country\", hue = \"income\", data = data )\n",
    "plt.show()"
   ]
  },
  {
   "cell_type": "code",
   "execution_count": 97,
   "id": "d4e8ee3e",
   "metadata": {},
   "outputs": [
    {
     "data": {
      "text/html": [
       "<div>\n",
       "<style scoped>\n",
       "    .dataframe tbody tr th:only-of-type {\n",
       "        vertical-align: middle;\n",
       "    }\n",
       "\n",
       "    .dataframe tbody tr th {\n",
       "        vertical-align: top;\n",
       "    }\n",
       "\n",
       "    .dataframe thead th {\n",
       "        text-align: right;\n",
       "    }\n",
       "</style>\n",
       "<table border=\"1\" class=\"dataframe\">\n",
       "  <thead>\n",
       "    <tr style=\"text-align: right;\">\n",
       "      <th>income</th>\n",
       "      <th>0</th>\n",
       "      <th>1</th>\n",
       "    </tr>\n",
       "    <tr>\n",
       "      <th>native-country</th>\n",
       "      <th></th>\n",
       "      <th></th>\n",
       "    </tr>\n",
       "  </thead>\n",
       "  <tbody>\n",
       "    <tr>\n",
       "      <th>China</th>\n",
       "      <td>1</td>\n",
       "      <td>0</td>\n",
       "    </tr>\n",
       "    <tr>\n",
       "      <th>Cuba</th>\n",
       "      <td>1</td>\n",
       "      <td>1</td>\n",
       "    </tr>\n",
       "    <tr>\n",
       "      <th>Dominican-Republic</th>\n",
       "      <td>1</td>\n",
       "      <td>0</td>\n",
       "    </tr>\n",
       "    <tr>\n",
       "      <th>Germany</th>\n",
       "      <td>1</td>\n",
       "      <td>0</td>\n",
       "    </tr>\n",
       "    <tr>\n",
       "      <th>India</th>\n",
       "      <td>2</td>\n",
       "      <td>0</td>\n",
       "    </tr>\n",
       "    <tr>\n",
       "      <th>Jamaica</th>\n",
       "      <td>1</td>\n",
       "      <td>0</td>\n",
       "    </tr>\n",
       "    <tr>\n",
       "      <th>Philippines</th>\n",
       "      <td>1</td>\n",
       "      <td>0</td>\n",
       "    </tr>\n",
       "    <tr>\n",
       "      <th>Poland</th>\n",
       "      <td>1</td>\n",
       "      <td>0</td>\n",
       "    </tr>\n",
       "    <tr>\n",
       "      <th>Portugal</th>\n",
       "      <td>1</td>\n",
       "      <td>0</td>\n",
       "    </tr>\n",
       "    <tr>\n",
       "      <th>South</th>\n",
       "      <td>1</td>\n",
       "      <td>0</td>\n",
       "    </tr>\n",
       "    <tr>\n",
       "      <th>United-States</th>\n",
       "      <td>128</td>\n",
       "      <td>55</td>\n",
       "    </tr>\n",
       "  </tbody>\n",
       "</table>\n",
       "</div>"
      ],
      "text/plain": [
       "income                0   1\n",
       "native-country             \n",
       "China                 1   0\n",
       "Cuba                  1   1\n",
       "Dominican-Republic    1   0\n",
       "Germany               1   0\n",
       "India                 2   0\n",
       "Jamaica               1   0\n",
       "Philippines           1   0\n",
       "Poland                1   0\n",
       "Portugal              1   0\n",
       "South                 1   0\n",
       "United-States       128  55"
      ]
     },
     "execution_count": 97,
     "metadata": {},
     "output_type": "execute_result"
    }
   ],
   "source": [
    "c_t = pd.crosstab(data[\"native-country\"].sample(frac = 0.004, replace = True, random_state = 1), data.income.sample(frac = 0.004, replace = True, random_state = 1))\n",
    "c_t"
   ]
  },
  {
   "cell_type": "code",
   "execution_count": 98,
   "id": "b9e2c204",
   "metadata": {},
   "outputs": [
    {
     "name": "stdout",
     "output_type": "stream",
     "text": [
      "chi2_stats: 4.6310159132647035\n",
      "p: 0.9144259912561064\n",
      "dof 10\n",
      "expected: [[  0.71282051   0.28717949]\n",
      " [  1.42564103   0.57435897]\n",
      " [  0.71282051   0.28717949]\n",
      " [  0.71282051   0.28717949]\n",
      " [  1.42564103   0.57435897]\n",
      " [  0.71282051   0.28717949]\n",
      " [  0.71282051   0.28717949]\n",
      " [  0.71282051   0.28717949]\n",
      " [  0.71282051   0.28717949]\n",
      " [  0.71282051   0.28717949]\n",
      " [130.44615385  52.55384615]]\n"
     ]
    }
   ],
   "source": [
    "from scipy.stats import chi2_contingency\n",
    "from scipy.stats import chi2\n",
    "\n",
    "chi2_stats, p, dof, expected = chi2_contingency(c_t)\n",
    "\n",
    "print(\"chi2_stats:\",chi2_stats)\n",
    "print(\"p:\",p)\n",
    "print(\"dof\",dof)\n",
    "print(\"expected:\",expected)"
   ]
  },
  {
   "cell_type": "code",
   "execution_count": 99,
   "id": "1af5fe1b",
   "metadata": {},
   "outputs": [
    {
     "name": "stdout",
     "output_type": "stream",
     "text": [
      "H0 accepted: income is not dependent on the Native-Country\n"
     ]
    }
   ],
   "source": [
    "if p > 0.05:\n",
    "    print(\"H0 accepted: income is not dependent on the Native-Country\")\n",
    "else:\n",
    "    print(\"H0 rejected: income is dependent on the Native-Country\")\n",
    "    "
   ]
  },
  {
   "cell_type": "markdown",
   "id": "a772cb0f",
   "metadata": {},
   "source": [
    "# Conclusion: Hence we can say that with 95 % confidence, income is not dependent ont The Native-Country"
   ]
  },
  {
   "cell_type": "markdown",
   "id": "ca9c577d",
   "metadata": {},
   "source": [
    "# Multivariate relationships\n",
    "i. correlation among the numeric variables"
   ]
  },
  {
   "cell_type": "code",
   "execution_count": 100,
   "id": "f6591d18",
   "metadata": {},
   "outputs": [
    {
     "data": {
      "image/png": "[encoded data removed]",
      "text/plain": [
       "<Figure size 288x288 with 2 Axes>"
      ]
     },
     "metadata": {
      "needs_background": "light"
     },
     "output_type": "display_data"
    }
   ],
   "source": [
    "plt.figure(figsize = (4,4))\n",
    "sns.heatmap(data.corr(), annot = True, linewidths = 5, cmap = \"Blues\")\n",
    "plt.title(\"Heatmap showing the correlation between numerical data\")\n",
    "plt.show()"
   ]
  },
  {
   "cell_type": "code",
   "execution_count": 101,
   "id": "df35a117",
   "metadata": {},
   "outputs": [
    {
     "data": {
      "image/png": "[encoded data removed]",
      "text/plain": [
       "<Figure size 288x288 with 2 Axes>"
      ]
     },
     "metadata": {
      "needs_background": "light"
     },
     "output_type": "display_data"
    }
   ],
   "source": [
    "# lets check the correlation between the raemaining numerical variables except the income.\n",
    "\n",
    "plt.figure(figsize = (4,4))\n",
    "sns.heatmap(data_num.corr(),annot = True, linewidths = 5, cmap = \"Blues\")\n",
    "plt.title(\"Heatmap showing correlations between numerical data except income\")\n",
    "plt.show()"
   ]
  },
  {
   "cell_type": "markdown",
   "id": "fae62da4",
   "metadata": {},
   "source": [
    "# as we can see the correlation between the reamaning numeric  variables is very weak, This is exactly why we did the analysis of income with respect to all other varibales. And ignored the analysis between the reamaning variables with respect to each other."
   ]
  },
  {
   "cell_type": "markdown",
   "id": "258d66a0",
   "metadata": {},
   "source": [
    "# Multivariate Analysis between \"income\", \"hours-per-week\", \"gender\""
   ]
  },
  {
   "cell_type": "code",
   "execution_count": 103,
   "id": "d63a7a6a",
   "metadata": {},
   "outputs": [
    {
     "data": {
      "image/png": "[encoded data removed]",
      "text/plain": [
       "<Figure size 864x432 with 1 Axes>"
      ]
     },
     "metadata": {
      "needs_background": "light"
     },
     "output_type": "display_data"
    }
   ],
   "source": [
    "plt.figure(figsize = (12,6))\n",
    "sns.boxplot(x = \"income\",y = \"hours-per-week\", hue = \"gender\",data = data)\n",
    "plt.show()"
   ]
  },
  {
   "cell_type": "markdown",
   "id": "d29a5e16",
   "metadata": {},
   "source": [
    "\n",
    "\n",
    "\n"
   ]
  },
  {
   "cell_type": "markdown",
   "id": "61b4eca4",
   "metadata": {},
   "source": [
    "# Multivariate analysis between \"income\",\"age\" and \"gender\""
   ]
  },
  {
   "cell_type": "code",
   "execution_count": 105,
   "id": "f06d2a22",
   "metadata": {},
   "outputs": [
    {
     "data": {
      "image/png": "[encoded data removed]",
      "text/plain": [
       "<Figure size 864x432 with 1 Axes>"
      ]
     },
     "metadata": {
      "needs_background": "light"
     },
     "output_type": "display_data"
    }
   ],
   "source": [
    "plt.figure(figsize = (12,6))\n",
    "sns.boxplot(x = \"income\", y = \"age\", hue = \"gender\", data = data)\n",
    "plt.show()"
   ]
  },
  {
   "cell_type": "code",
   "execution_count": 112,
   "id": "9d8a39c1",
   "metadata": {},
   "outputs": [
    {
     "name": "stdout",
     "output_type": "stream",
     "text": [
      "workclass         object\n",
      "education         object\n",
      "marital-status    object\n",
      "occupation        object\n",
      "relationship      object\n",
      "race              object\n",
      "gender            object\n",
      "native-country    object\n",
      "dtype: object\n",
      "\n",
      "\n",
      " cat_column.index\n",
      "\n",
      " Index(['workclass', 'education', 'marital-status', 'occupation',\n",
      "       'relationship', 'race', 'gender', 'native-country'],\n",
      "      dtype='object')\n",
      "data.dtypes: \n",
      " age                 int64\n",
      "workclass          object\n",
      "education          object\n",
      "educational-num     int64\n",
      "marital-status     object\n",
      "occupation         object\n",
      "relationship       object\n",
      "race               object\n",
      "gender             object\n",
      "capital-gain        int64\n",
      "capital-loss        int64\n",
      "hours-per-week      int64\n",
      "native-country     object\n",
      "income              int64\n",
      "dtype: object\n",
      "=====================workclass========================\n",
      "Private             43\n",
      "Self-emp-not-inc     5\n",
      "Local-gov            5\n",
      "Federal-gov          2\n",
      "Name: workclass, dtype: int64\n",
      "=====================occupation========================\n",
      "Prof-specialty       16\n",
      "Exec-managerial       9\n",
      "Other-service         7\n",
      "Adm-clerical          6\n",
      "Craft-repair          5\n",
      "Sales                 4\n",
      "Machine-op-inspct     3\n",
      "Transport-moving      2\n",
      "Handlers-cleaners     1\n",
      "Farming-fishing       1\n",
      "Protective-serv       1\n",
      "Name: occupation, dtype: int64\n"
     ]
    }
   ],
   "source": [
    "desired_column = [\"workclass\", \"occupation\"]\n",
    "cat_column = data.dtypes[data.dtypes == \"object\"]\n",
    "\n",
    "print(cat_column)\n",
    "index = cat_column.index\n",
    "print( \"\\n\\n cat_column.index\\n\\n\", index)\n",
    "\n",
    "print( \"data.dtypes: \\n\", data.dtypes)\n",
    "for column in cat_column.index:\n",
    "    if column in desired_column:\n",
    "        print(f\"====================={column}========================\")\n",
    "        print(data_num[data_num.age == 90][column].value_counts())\n",
    "    else:\n",
    "        pass\n",
    "       "
   ]
  },
  {
   "cell_type": "code",
   "execution_count": 118,
   "id": "6bf132d1",
   "metadata": {},
   "outputs": [
    {
     "name": "stdout",
     "output_type": "stream",
     "text": [
      "========workclass=============\n",
      "Private             74\n",
      "Self-emp-not-inc    36\n",
      "Self-emp-inc        15\n",
      "Local-gov            7\n",
      "State-gov            3\n",
      "Federal-gov          2\n",
      "Name: workclass, dtype: int64\n",
      "========occupation=============\n",
      "Prof-specialty       36\n",
      "Farming-fishing      20\n",
      "Transport-moving     19\n",
      "Exec-managerial      18\n",
      "Other-service        15\n",
      "Craft-repair         10\n",
      "Sales                 6\n",
      "Protective-serv       4\n",
      "Priv-house-serv       4\n",
      "Adm-clerical          2\n",
      "Tech-support          2\n",
      "Handlers-cleaners     1\n",
      "Name: occupation, dtype: int64\n"
     ]
    }
   ],
   "source": [
    "target_column = [\"workclass\",\"occupation\"]\n",
    "column_cat = data.dtypes[data.dtypes == \"object\"]\n",
    "index = column_cat.index\n",
    "\n",
    "for column in index:\n",
    "    if column in target_column:\n",
    "        print(f\"========{column}=============\")\n",
    "        print(data_num[data_num[\"hours-per-week\"] == 99][column].value_counts())\n",
    "    else:\n",
    "        continue"
   ]
  },
  {
   "cell_type": "code",
   "execution_count": 119,
   "id": "34b3c239",
   "metadata": {},
   "outputs": [
    {
     "data": {
      "text/plain": [
       "count    48842.000000\n",
       "mean       991.565313\n",
       "std       7475.549906\n",
       "min      -4356.000000\n",
       "25%          0.000000\n",
       "50%          0.000000\n",
       "75%          0.000000\n",
       "max      99999.000000\n",
       "Name: capital_change, dtype: float64"
      ]
     },
     "execution_count": 119,
     "metadata": {},
     "output_type": "execute_result"
    }
   ],
   "source": [
    "data[\"capital_change\"] = data[\"capital-gain\"] - data[\"capital-loss\"]\n",
    "data[\"capital_change\"].describe()"
   ]
  },
  {
   "cell_type": "code",
   "execution_count": 121,
   "id": "7e1b2de6",
   "metadata": {},
   "outputs": [
    {
     "data": {
      "image/png": "[encoded data removed]",
      "text/plain": [
       "<Figure size 576x576 with 1 Axes>"
      ]
     },
     "metadata": {
      "needs_background": "light"
     },
     "output_type": "display_data"
    }
   ],
   "source": [
    "plt.figure(figsize = (8,8))\n",
    "sns.histplot(x = \"capital_change\", data = data)\n",
    "plt.show()"
   ]
  },
  {
   "cell_type": "code",
   "execution_count": 126,
   "id": "43d2ebe5",
   "metadata": {},
   "outputs": [
    {
     "name": "stdout",
     "output_type": "stream",
     "text": [
      "% of people whose capital gain < = 0 : 91.74 %\n",
      "% of people whose capital gain > 0 : 8.26 %\n"
     ]
    }
   ],
   "source": [
    "a = len(data[\"capital_change\"][data[\"capital_change\"] <= 0])\n",
    "\n",
    "b = len(data[\"capital_change\"])\n",
    "\n",
    "result = round((a/b)*100, 2)\n",
    "\n",
    "result1 = round((100 - result), 2)\n",
    "\n",
    "print(\"% of people whose capital gain < = 0 :\", result,\"%\")\n",
    "print(\"% of people whose capital gain > 0 :\", result1,\"%\")"
   ]
  },
  {
   "cell_type": "code",
   "execution_count": null,
   "id": "d8b32e58",
   "metadata": {},
   "outputs": [],
   "source": []
  }
 ],
 "metadata": {
  "kernelspec": {
   "display_name": "Python 3 (ipykernel)",
   "language": "python",
   "name": "python3"
  },
  "language_info": {
   "codemirror_mode": {
    "name": "ipython",
    "version": 3
   },
   "file_extension": ".py",
   "mimetype": "text/x-python",
   "name": "python",
   "nbconvert_exporter": "python",
   "pygments_lexer": "ipython3",
   "version": "3.10.11"
  }
 },
 "nbformat": 4,
 "nbformat_minor": 5
}
